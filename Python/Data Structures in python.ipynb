{
 "cells": [
  {
   "cell_type": "markdown",
   "metadata": {},
   "source": [
    "# __DATA STRUCTURE IN PYTHON__\n",
    "\n",
    "There are various data structures which are already present in python. They are used to efficiently store and manipulate data.\n",
    "\n",
    "__Some Data structure in python are:__\n",
    "\n",
    "* __LIST__\n",
    "* __TUPLE__\n",
    "* __SETS__\n",
    "* __DICTIONARY__\n",
    "* __STRINGS__\n",
    "\n",
    "__NOTE:__ Strings are considered basic data type in python but underneath is an ordered collection of unicode characters."
   ]
  },
  {
   "cell_type": "markdown",
   "metadata": {},
   "source": [
    "## __LIST__\n",
    "\n",
    "List is an ordered collection of items. Ordered here refers that it can be indexed as it has some definite order in it. Lists are __mutable__ i.e. they can be modified. List can have elements of different data types in it. Indexing of lists starts with __0__ . \n",
    "\n",
    "Lists uses __[  ]__ and have elements separated by commas  __,__ \n",
    "\n",
    "Lists can also be created by using __list()__ function"
   ]
  },
  {
   "cell_type": "code",
   "execution_count": 19,
   "metadata": {},
   "outputs": [
    {
     "name": "stdout",
     "output_type": "stream",
     "text": [
      "[1, 2, 3, 4, 5, 6]\n",
      "[10, 11, 12, 13, 14, 15]\n"
     ]
    }
   ],
   "source": [
    "# creating a list\n",
    "\n",
    "list1 = list([1,2,3,4,5,6])\n",
    "list2 = list([10,11,12,13,14,15])\n",
    "print(list1)\n",
    "print(list2)"
   ]
  },
  {
   "cell_type": "markdown",
   "metadata": {},
   "source": [
    "### Traversing a list\n",
    "\n",
    "Traversing refers to go through each element in list."
   ]
  },
  {
   "cell_type": "code",
   "execution_count": 20,
   "metadata": {},
   "outputs": [
    {
     "name": "stdout",
     "output_type": "stream",
     "text": [
      "1\n",
      "2\n",
      "3\n",
      "4\n",
      "5\n",
      "6\n"
     ]
    }
   ],
   "source": [
    "for i in list1:\n",
    "    print(i)"
   ]
  },
  {
   "cell_type": "code",
   "execution_count": 21,
   "metadata": {},
   "outputs": [
    {
     "name": "stdout",
     "output_type": "stream",
     "text": [
      "1\n",
      "2\n",
      "3\n",
      "4\n",
      "5\n",
      "6\n"
     ]
    }
   ],
   "source": [
    "for i in range(len(list1)):\n",
    "    print(list1[i])"
   ]
  },
  {
   "cell_type": "markdown",
   "metadata": {},
   "source": [
    "### Indexing a list\n",
    "\n",
    "Indexing refers to fetching an element from a particular index in list\n",
    "\n",
    "__Syntax:__\n",
    "\n",
    "```\n",
    "list_var [ index ]\n",
    "\n",
    "```\n",
    "\n",
    "Fetches element from the list present at index given __index <  length of the list__ . \n",
    "\n",
    "Negative index can be used to denote elements of list from the end of the list.\n",
    "\n",
    "__NOTE:__ Indexing starts at 0"
   ]
  },
  {
   "cell_type": "code",
   "execution_count": 22,
   "metadata": {},
   "outputs": [
    {
     "name": "stdout",
     "output_type": "stream",
     "text": [
      "[1, 2, 3, 4, 5, 6]\n"
     ]
    }
   ],
   "source": [
    "print(list1)"
   ]
  },
  {
   "cell_type": "code",
   "execution_count": 23,
   "metadata": {},
   "outputs": [
    {
     "name": "stdout",
     "output_type": "stream",
     "text": [
      "3\n",
      "1\n",
      "6\n",
      "5\n",
      "6\n"
     ]
    },
    {
     "ename": "IndexError",
     "evalue": "list index out of range",
     "output_type": "error",
     "traceback": [
      "\u001b[1;31m---------------------------------------------------------------------------\u001b[0m",
      "\u001b[1;31mIndexError\u001b[0m                                Traceback (most recent call last)",
      "\u001b[1;32m<ipython-input-23-ffcef0962e49>\u001b[0m in \u001b[0;36m<module>\u001b[1;34m\u001b[0m\n\u001b[0;32m      4\u001b[0m \u001b[0mprint\u001b[0m\u001b[1;33m(\u001b[0m\u001b[0mlist1\u001b[0m\u001b[1;33m[\u001b[0m\u001b[1;33m-\u001b[0m\u001b[1;36m2\u001b[0m\u001b[1;33m]\u001b[0m\u001b[1;33m)\u001b[0m \u001b[1;31m# Fetch second last element of list\u001b[0m\u001b[1;33m\u001b[0m\u001b[1;33m\u001b[0m\u001b[0m\n\u001b[0;32m      5\u001b[0m \u001b[0mprint\u001b[0m\u001b[1;33m(\u001b[0m\u001b[0mlist1\u001b[0m\u001b[1;33m[\u001b[0m\u001b[1;36m5\u001b[0m\u001b[1;33m]\u001b[0m\u001b[1;33m)\u001b[0m \u001b[1;31m# Fetch last element using positive index\u001b[0m\u001b[1;33m\u001b[0m\u001b[1;33m\u001b[0m\u001b[0m\n\u001b[1;32m----> 6\u001b[1;33m \u001b[0mprint\u001b[0m\u001b[1;33m(\u001b[0m\u001b[0mlist1\u001b[0m\u001b[1;33m[\u001b[0m\u001b[1;36m6\u001b[0m\u001b[1;33m]\u001b[0m\u001b[1;33m)\u001b[0m \u001b[1;31m# error as index is not less than length of list\u001b[0m\u001b[1;33m\u001b[0m\u001b[1;33m\u001b[0m\u001b[0m\n\u001b[0m",
      "\u001b[1;31mIndexError\u001b[0m: list index out of range"
     ]
    }
   ],
   "source": [
    "print(list1[2])\n",
    "print(list1[0])\n",
    "print(list1[-1]) # Fetch last element of list using negative index\n",
    "print(list1[-2]) # Fetch second last element of list\n",
    "print(list1[5]) # Fetch last element using positive index\n",
    "print(list1[6]) # error as index is not less than length of list"
   ]
  },
  {
   "cell_type": "markdown",
   "metadata": {},
   "source": [
    "### __Slicing__\n",
    "\n",
    "Slicing is a method of obtaining a subset of the list.\n",
    "\n",
    "__Syntax:__\n",
    "\n",
    "```\n",
    "list_var [start:stop:step]\n",
    "```\n",
    "\n",
    "* __Start:__ index of starting point of slicing. By default 0\n",
    "* __Stop:__ index of ending point of slicing. It's exclusive and by default index of last element\n",
    "* __Step:__ how many elements to skip while fetching\n",
    "\n",
    "__NOTE:__ By default syntax is __list_var[start:stop]__ and step part can be omitted, it's optional."
   ]
  },
  {
   "cell_type": "code",
   "execution_count": 24,
   "metadata": {},
   "outputs": [
    {
     "name": "stdout",
     "output_type": "stream",
     "text": [
      "[1, 2, 3, 4, 5, 6]\n",
      "[1, 2, 3, 4, 5, 6]\n",
      "[3, 4]\n",
      "[1, 3, 5]\n",
      "[3, 5]\n"
     ]
    }
   ],
   "source": [
    "print(list1)\n",
    "print(list1[:])\n",
    "print(list1[2:4]) #stop is exclusive\n",
    "print(list1[::2]) #every second element from start of slicing\n",
    "print(list1[2::2])"
   ]
  },
  {
   "cell_type": "markdown",
   "metadata": {},
   "source": [
    "## Some important Functions in list"
   ]
  },
  {
   "cell_type": "markdown",
   "metadata": {},
   "source": [
    "### Find length of list\n",
    "\n",
    "```\n",
    "len(list_var)\n",
    "```"
   ]
  },
  {
   "cell_type": "code",
   "execution_count": 25,
   "metadata": {},
   "outputs": [
    {
     "name": "stdout",
     "output_type": "stream",
     "text": [
      "[1, 2, 3, 4, 5, 6]\n",
      "6\n"
     ]
    }
   ],
   "source": [
    "print(list1)\n",
    "print(len(list1))"
   ]
  },
  {
   "cell_type": "markdown",
   "metadata": {},
   "source": [
    "### Adding an element to list\n",
    "\n",
    "\n",
    "__There are different ways to add elements to list__\n",
    "\n",
    "* __Append:__ it appends the element at the end of list\n",
    "\n",
    "```\n",
    "list_var.append(element)\n",
    "```\n",
    "\n",
    "* __Insert:__ used to add element in a list at a particular index\n",
    "\n",
    "```\n",
    "list_var.insert(index, element)\n",
    "```\n",
    "\n",
    "* __Extend:__ Used to extend the list\n",
    "\n",
    "```\n",
    "list_var.extend(another_list)\n",
    "```\n",
    "\n",
    "__NOTE:__ Extend is used to extend the current list to accomodate elements of another list whereas append add the elements at the end and create a nested list if another list is passed as a parameter to a function"
   ]
  },
  {
   "cell_type": "code",
   "execution_count": 30,
   "metadata": {},
   "outputs": [
    {
     "name": "stdout",
     "output_type": "stream",
     "text": [
      "[1, 2, 3, 4, 5, 6]\n",
      "[1, 2, 3, 4, 5, 6, 7]\n",
      "[1, 2, 7, 3, 4, 5, 6]\n",
      "[1, 2, 3, 4, 5, 6, [10, 11, 12]]\n",
      "[1, 2, 3, 4, 5, 6, 10, 11, 12]\n"
     ]
    }
   ],
   "source": [
    "list1 = [1,2,3,4,5,6]\n",
    "print(list1)\n",
    "\n",
    "list1.append(7) #adding an element\n",
    "print(list1)\n",
    "\n",
    "list1 = [1,2,3,4,5,6]\n",
    "list1.insert(2, 7) # add an element 7 to position 2\n",
    "print(list1)\n",
    "\n",
    "list1 = [1,2,3,4,5,6]\n",
    "list2 = [10,11,12]\n",
    "\n",
    "list1.append(list2) #create nested list\n",
    "print(list1)\n",
    "\n",
    "list1 = [1,2,3,4,5,6]\n",
    "list1.extend(list2)\n",
    "print(list1)"
   ]
  },
  {
   "cell_type": "markdown",
   "metadata": {},
   "source": [
    "### Deleting an element from list\n",
    "\n",
    "\n",
    "__There are different ways to delete elements from list__\n",
    "\n",
    "* __Remove:__ it deletes the first occurence of an element\n",
    "\n",
    "```\n",
    "list_var.remove(element)\n",
    "```\n",
    "\n",
    "* __del:__ used to delete element from a particular index\n",
    "\n",
    "```\n",
    "del list_var[index]\n",
    "```\n",
    "\n",
    "* __pop:__ Used to delete element from given index\n",
    "\n",
    "```\n",
    "list_var.pop(index)\n",
    "```\n",
    "\n",
    "__NOTE:__ Pop returns element after removing whereas del command does not"
   ]
  },
  {
   "cell_type": "code",
   "execution_count": 31,
   "metadata": {},
   "outputs": [
    {
     "name": "stdout",
     "output_type": "stream",
     "text": [
      "[1, 2, 3, 7, 4, 5, 6, 7]\n",
      "[1, 2, 3, 4, 5, 6, 7]\n",
      "[1, 2, 3, 5, 6, 7]\n",
      "5\n",
      "[1, 2, 3, 6, 7]\n"
     ]
    }
   ],
   "source": [
    "list1 = [1,2,3,7,4,5,6,7]\n",
    "print(list1)\n",
    "\n",
    "list1.remove(7) # remove first occurence of 7 from list\n",
    "print(list1)\n",
    "\n",
    "del list1[3] #delete third element from the list but does not return anythin\n",
    "print(list1)\n",
    "\n",
    "a = list1.pop(3) # deletes third element from the list and store in a\n",
    "print(a)\n",
    "print(list1)"
   ]
  },
  {
   "cell_type": "markdown",
   "metadata": {},
   "source": [
    "### __Count__\n",
    "\n",
    "Count occurence of a particular element in a list\n",
    "\n",
    "__Syntax:__\n",
    "\n",
    "```\n",
    "list_var.count(element)\n",
    "```"
   ]
  },
  {
   "cell_type": "code",
   "execution_count": 32,
   "metadata": {},
   "outputs": [
    {
     "name": "stdout",
     "output_type": "stream",
     "text": [
      "3\n"
     ]
    }
   ],
   "source": [
    "list1 = [2,4,3,1,2,1,3,2]\n",
    "print(list1.count(2))"
   ]
  },
  {
   "cell_type": "markdown",
   "metadata": {},
   "source": [
    "### __Reverse__\n",
    "\n",
    "Reverses the list\n",
    "\n",
    "__Syntax:__\n",
    "\n",
    "```\n",
    "list1.revers()\n",
    "```"
   ]
  },
  {
   "cell_type": "code",
   "execution_count": 34,
   "metadata": {},
   "outputs": [
    {
     "name": "stdout",
     "output_type": "stream",
     "text": [
      "[2, 4, 3, 1, 2, 1, 3, 2]\n",
      "[2, 3, 1, 2, 1, 3, 4, 2]\n"
     ]
    }
   ],
   "source": [
    "print(list1)\n",
    "list1.reverse()\n",
    "print(list1)"
   ]
  },
  {
   "cell_type": "markdown",
   "metadata": {},
   "source": [
    "### __Sorting__\n",
    "\n",
    "Sort the element of list in a particular order ascending or descending\n",
    "\n",
    "__Different ways to sort a list:__\n",
    "\n",
    "* __sorted:__ function to sort a list\n",
    "\n",
    "__Syntax:__\n",
    "\n",
    "```\n",
    "sorted(list_var, reverse = True/False)\n",
    "```\n",
    "\n",
    "* __sort:__ method to sort a list\n",
    "\n",
    "__Syntax:__\n",
    "\n",
    "```\n",
    "list_var.sort(reverse = True/False)\n",
    "```\n",
    "\n",
    "__NOTE:__\n",
    "\n",
    "* Difference between sorted and sort is that sorted does not change original list whereas sort makes changes in list\n",
    "\n",
    "* By default if reverse is not passed, sorting is done in ascending order."
   ]
  },
  {
   "cell_type": "code",
   "execution_count": 36,
   "metadata": {},
   "outputs": [
    {
     "name": "stdout",
     "output_type": "stream",
     "text": [
      "[1, 2, 12, 13, 32, 43, 412, 423]\n",
      "[1, 32, 12, 43, 2, 13, 423, 412]\n",
      "[1, 2, 12, 13, 32, 43, 412, 423]\n"
     ]
    }
   ],
   "source": [
    "list1 = [1,32,12,43,2,13,423,412]\n",
    "\n",
    "list2 = sorted(list1)\n",
    "\n",
    "print(list2)\n",
    "print(list1)\n",
    "\n",
    "list1.sort()\n",
    "\n",
    "print(list1)"
   ]
  },
  {
   "cell_type": "code",
   "execution_count": 37,
   "metadata": {},
   "outputs": [
    {
     "name": "stdout",
     "output_type": "stream",
     "text": [
      "[423, 412, 43, 32, 13, 12, 2, 1]\n",
      "[1, 32, 12, 43, 2, 13, 423, 412]\n",
      "[423, 412, 43, 32, 13, 12, 2, 1]\n"
     ]
    }
   ],
   "source": [
    "# In Descending order\n",
    "\n",
    "list1 = [1,32,12,43,2,13,423,412]\n",
    "\n",
    "list2 = sorted(list1,reverse = True)\n",
    "\n",
    "print(list2)\n",
    "print(list1)\n",
    "\n",
    "list1.sort(reverse = True)\n",
    "\n",
    "print(list1)"
   ]
  },
  {
   "cell_type": "markdown",
   "metadata": {},
   "source": [
    "### __Copying a list__\n",
    "\n",
    "List have a shared memory. It means that when a list is assigned to another variable then any changes made in any variable is reflected back to other as well"
   ]
  },
  {
   "cell_type": "code",
   "execution_count": 40,
   "metadata": {},
   "outputs": [
    {
     "name": "stdout",
     "output_type": "stream",
     "text": [
      "[2, 3, 5, 1, 6]\n",
      "[2, 3, 5, 1, 6]\n",
      "[2, 5, 1, 6]\n",
      "[2, 5, 1, 6]\n"
     ]
    }
   ],
   "source": [
    "list1 = [2,3,5,1,6]\n",
    "list2 = list1\n",
    "\n",
    "print(list1)\n",
    "print(list2)\n",
    "\n",
    "#removed from both list\n",
    "list1.remove(3)\n",
    "\n",
    "print(list1)\n",
    "print(list2)"
   ]
  },
  {
   "cell_type": "code",
   "execution_count": 43,
   "metadata": {},
   "outputs": [
    {
     "name": "stdout",
     "output_type": "stream",
     "text": [
      "[2, 3, 5, 1, 6]\n",
      "[2, 3, 5, 1, 6]\n",
      "[2, 5, 1, 6]\n",
      "[2, 3, 5, 1, 6]\n"
     ]
    }
   ],
   "source": [
    "list1 = [2,3,5,1,6]\n",
    "list2 = list1.copy()\n",
    "\n",
    "print(list1)\n",
    "print(list2)\n",
    "\n",
    "#removed from list1 only\n",
    "list1.remove(3)\n",
    "\n",
    "print(list1)\n",
    "print(list2)"
   ]
  },
  {
   "cell_type": "markdown",
   "metadata": {},
   "source": [
    "### __Combining into string__\n",
    "\n",
    "Combining elements of list to form a string separated by a delimiter. Delimiter is the character with which you want to separate the elements in string.\n",
    "\n",
    "__Syntax:__\n",
    "\n",
    "```\n",
    "delimiter.join(list_var)\n",
    "```\n"
   ]
  },
  {
   "cell_type": "code",
   "execution_count": 46,
   "metadata": {},
   "outputs": [
    {
     "name": "stdout",
     "output_type": "stream",
     "text": [
      "hello world I am learning python\n",
      "hello;world;I;am;learning;python\n"
     ]
    }
   ],
   "source": [
    "list1 = ['hello','world','I','am','learning','python']\n",
    "\n",
    "#default spaces\n",
    "st = ' '.join(list1)\n",
    "print(st)\n",
    "\n",
    "st = ';'.join(list1)\n",
    "print(st)"
   ]
  },
  {
   "cell_type": "markdown",
   "metadata": {},
   "source": [
    "## __List Comprehension__\n",
    "\n",
    "List comprehension is a compact way of creating a list and is used when the elements are obtained by applying any operation and conditional on iterable or some sequence "
   ]
  },
  {
   "cell_type": "code",
   "execution_count": 50,
   "metadata": {},
   "outputs": [
    {
     "name": "stdout",
     "output_type": "stream",
     "text": [
      "[0, 1, 2, 3, 4, 5, 6, 7, 8, 9]\n",
      "[0, 1, 4, 9, 16, 25, 36, 49, 64, 81]\n",
      "[0, 2, 4, 6, 8]\n"
     ]
    }
   ],
   "source": [
    "# create list of n natural number\n",
    "\n",
    "list1 = [i for i in range(10)]\n",
    "\n",
    "print(list1)\n",
    "\n",
    "# create list of square of natural number\n",
    "\n",
    "list1 = [i**2 for i in range(10)]\n",
    "print(list1)\n",
    "\n",
    "# Create list of even number upto 10\n",
    "\n",
    "list1 = [i for i in range(10) if i%2==0]\n",
    "print(list1)"
   ]
  },
  {
   "cell_type": "code",
   "execution_count": 53,
   "metadata": {},
   "outputs": [
    {
     "name": "stdout",
     "output_type": "stream",
     "text": [
      "[3, 13, 15, 19]\n"
     ]
    }
   ],
   "source": [
    "list2 = [2,3, 26,13,12,15,18,19]\n",
    "\n",
    "# Fetch odd elements from another list\n",
    "list1 = [i for i in list2 if i%2!=0]\n",
    "print(list1)"
   ]
  },
  {
   "cell_type": "code",
   "execution_count": null,
   "metadata": {},
   "outputs": [],
   "source": []
  }
 ],
 "metadata": {
  "kernelspec": {
   "display_name": "Python 3",
   "language": "python",
   "name": "python3"
  },
  "language_info": {
   "codemirror_mode": {
    "name": "ipython",
    "version": 3
   },
   "file_extension": ".py",
   "mimetype": "text/x-python",
   "name": "python",
   "nbconvert_exporter": "python",
   "pygments_lexer": "ipython3",
   "version": "3.7.6"
  }
 },
 "nbformat": 4,
 "nbformat_minor": 4
}
