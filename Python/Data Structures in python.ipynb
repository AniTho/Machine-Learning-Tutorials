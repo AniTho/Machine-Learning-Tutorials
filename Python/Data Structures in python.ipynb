{
 "cells": [
  {
   "cell_type": "markdown",
   "metadata": {},
   "source": [
    "# __DATA STRUCTURE IN PYTHON__\n",
    "\n",
    "There are various data structures which are already present in python. They are used to efficiently store and manipulate data.\n",
    "\n",
    "__Some Data structure in python are:__\n",
    "\n",
    "* __LIST__\n",
    "* __TUPLE__\n",
    "* __SETS__\n",
    "* __DICTIONARY__\n",
    "* __STRINGS__\n",
    "\n",
    "__NOTE:__ Strings are considered basic data type in python but underneath is an ordered collection of unicode characters."
   ]
  },
  {
   "cell_type": "markdown",
   "metadata": {},
   "source": [
    "## __LIST__\n",
    "\n",
    "List is an ordered collection of items. Ordered here refers that it can be indexed as it has some definite order in it. Lists are __mutable__ i.e. they can be modified. List can have elements of different data types in it. Indexing of lists starts with __0__ . \n",
    "\n",
    "Lists uses __[  ]__ and have elements separated by commas  __,__ \n",
    "\n",
    "Lists can also be created by using __list()__ function"
   ]
  },
  {
   "cell_type": "code",
   "execution_count": 14,
   "metadata": {},
   "outputs": [
    {
     "name": "stdout",
     "output_type": "stream",
     "text": [
      "[1, 2, 3, 4, 5, 6]\n",
      "[10, 11, 12, 13, 14, 15]\n"
     ]
    }
   ],
   "source": [
    "# creating a list\n",
    "\n",
    "list1 = list([1,2,3,4,5,6])\n",
    "list2 = list([10,11,12,13,14,15])\n",
    "print(list1)\n",
    "print(list2)"
   ]
  },
  {
   "cell_type": "markdown",
   "metadata": {},
   "source": [
    "### __Nested List__\n",
    "\n",
    "List inside a list can be created and can be indexed in a similar way"
   ]
  },
  {
   "cell_type": "code",
   "execution_count": 15,
   "metadata": {},
   "outputs": [
    {
     "name": "stdout",
     "output_type": "stream",
     "text": [
      "[[1, 2, 3], [4, 5, 6]]\n"
     ]
    }
   ],
   "source": [
    "list1 = [[1,2,3],[4,5,6]]\n",
    "\n",
    "print(list1)"
   ]
  },
  {
   "cell_type": "code",
   "execution_count": 16,
   "metadata": {},
   "outputs": [
    {
     "name": "stdout",
     "output_type": "stream",
     "text": [
      "[1, 2, 3]\n"
     ]
    }
   ],
   "source": [
    "print(list1[0])"
   ]
  },
  {
   "cell_type": "code",
   "execution_count": 17,
   "metadata": {},
   "outputs": [
    {
     "name": "stdout",
     "output_type": "stream",
     "text": [
      "3\n"
     ]
    }
   ],
   "source": [
    "print(list1[0][2])"
   ]
  },
  {
   "cell_type": "markdown",
   "metadata": {},
   "source": [
    "### Traversing a list\n",
    "\n",
    "Traversing refers to go through each element in list."
   ]
  },
  {
   "cell_type": "code",
   "execution_count": 20,
   "metadata": {},
   "outputs": [
    {
     "name": "stdout",
     "output_type": "stream",
     "text": [
      "1\n",
      "2\n",
      "3\n",
      "4\n",
      "5\n",
      "6\n"
     ]
    }
   ],
   "source": [
    "for i in list1:\n",
    "    print(i)"
   ]
  },
  {
   "cell_type": "code",
   "execution_count": 21,
   "metadata": {},
   "outputs": [
    {
     "name": "stdout",
     "output_type": "stream",
     "text": [
      "1\n",
      "2\n",
      "3\n",
      "4\n",
      "5\n",
      "6\n"
     ]
    }
   ],
   "source": [
    "for i in range(len(list1)):\n",
    "    print(list1[i])"
   ]
  },
  {
   "cell_type": "markdown",
   "metadata": {},
   "source": [
    "### Indexing a list\n",
    "\n",
    "Indexing refers to fetching an element from a particular index in list\n",
    "\n",
    "__Syntax:__\n",
    "\n",
    "```\n",
    "list_var [ index ]\n",
    "\n",
    "```\n",
    "\n",
    "Fetches element from the list present at index given __index <  length of the list__ . \n",
    "\n",
    "Negative index can be used to denote elements of list from the end of the list.\n",
    "\n",
    "__NOTE:__ Indexing starts at 0"
   ]
  },
  {
   "cell_type": "code",
   "execution_count": 22,
   "metadata": {},
   "outputs": [
    {
     "name": "stdout",
     "output_type": "stream",
     "text": [
      "[1, 2, 3, 4, 5, 6]\n"
     ]
    }
   ],
   "source": [
    "print(list1)"
   ]
  },
  {
   "cell_type": "code",
   "execution_count": 23,
   "metadata": {},
   "outputs": [
    {
     "name": "stdout",
     "output_type": "stream",
     "text": [
      "3\n",
      "1\n",
      "6\n",
      "5\n",
      "6\n"
     ]
    },
    {
     "ename": "IndexError",
     "evalue": "list index out of range",
     "output_type": "error",
     "traceback": [
      "\u001b[1;31m---------------------------------------------------------------------------\u001b[0m",
      "\u001b[1;31mIndexError\u001b[0m                                Traceback (most recent call last)",
      "\u001b[1;32m<ipython-input-23-ffcef0962e49>\u001b[0m in \u001b[0;36m<module>\u001b[1;34m\u001b[0m\n\u001b[0;32m      4\u001b[0m \u001b[0mprint\u001b[0m\u001b[1;33m(\u001b[0m\u001b[0mlist1\u001b[0m\u001b[1;33m[\u001b[0m\u001b[1;33m-\u001b[0m\u001b[1;36m2\u001b[0m\u001b[1;33m]\u001b[0m\u001b[1;33m)\u001b[0m \u001b[1;31m# Fetch second last element of list\u001b[0m\u001b[1;33m\u001b[0m\u001b[1;33m\u001b[0m\u001b[0m\n\u001b[0;32m      5\u001b[0m \u001b[0mprint\u001b[0m\u001b[1;33m(\u001b[0m\u001b[0mlist1\u001b[0m\u001b[1;33m[\u001b[0m\u001b[1;36m5\u001b[0m\u001b[1;33m]\u001b[0m\u001b[1;33m)\u001b[0m \u001b[1;31m# Fetch last element using positive index\u001b[0m\u001b[1;33m\u001b[0m\u001b[1;33m\u001b[0m\u001b[0m\n\u001b[1;32m----> 6\u001b[1;33m \u001b[0mprint\u001b[0m\u001b[1;33m(\u001b[0m\u001b[0mlist1\u001b[0m\u001b[1;33m[\u001b[0m\u001b[1;36m6\u001b[0m\u001b[1;33m]\u001b[0m\u001b[1;33m)\u001b[0m \u001b[1;31m# error as index is not less than length of list\u001b[0m\u001b[1;33m\u001b[0m\u001b[1;33m\u001b[0m\u001b[0m\n\u001b[0m",
      "\u001b[1;31mIndexError\u001b[0m: list index out of range"
     ]
    }
   ],
   "source": [
    "print(list1[2])\n",
    "print(list1[0])\n",
    "print(list1[-1]) # Fetch last element of list using negative index\n",
    "print(list1[-2]) # Fetch second last element of list\n",
    "print(list1[5]) # Fetch last element using positive index\n",
    "print(list1[6]) # error as index is not less than length of list"
   ]
  },
  {
   "cell_type": "markdown",
   "metadata": {},
   "source": [
    "### __Slicing__\n",
    "\n",
    "Slicing is a method of obtaining a subset of the list.\n",
    "\n",
    "__Syntax:__\n",
    "\n",
    "```\n",
    "list_var [start:stop:step]\n",
    "```\n",
    "\n",
    "* __Start:__ index of starting point of slicing. By default 0\n",
    "* __Stop:__ index of ending point of slicing. It's exclusive and by default index of last element\n",
    "* __Step:__ how many elements to skip while fetching\n",
    "\n",
    "__NOTE:__ By default syntax is __list_var[start:stop]__ and step part can be omitted, it's optional."
   ]
  },
  {
   "cell_type": "code",
   "execution_count": 24,
   "metadata": {},
   "outputs": [
    {
     "name": "stdout",
     "output_type": "stream",
     "text": [
      "[1, 2, 3, 4, 5, 6]\n",
      "[1, 2, 3, 4, 5, 6]\n",
      "[3, 4]\n",
      "[1, 3, 5]\n",
      "[3, 5]\n"
     ]
    }
   ],
   "source": [
    "print(list1)\n",
    "print(list1[:])\n",
    "print(list1[2:4]) #stop is exclusive\n",
    "print(list1[::2]) #every second element from start of slicing\n",
    "print(list1[2::2])"
   ]
  },
  {
   "cell_type": "markdown",
   "metadata": {},
   "source": [
    "## Some important Functions in list"
   ]
  },
  {
   "cell_type": "markdown",
   "metadata": {},
   "source": [
    "### Find length of list\n",
    "\n",
    "```\n",
    "len(list_var)\n",
    "```"
   ]
  },
  {
   "cell_type": "code",
   "execution_count": 25,
   "metadata": {},
   "outputs": [
    {
     "name": "stdout",
     "output_type": "stream",
     "text": [
      "[1, 2, 3, 4, 5, 6]\n",
      "6\n"
     ]
    }
   ],
   "source": [
    "print(list1)\n",
    "print(len(list1))"
   ]
  },
  {
   "cell_type": "markdown",
   "metadata": {},
   "source": [
    "### Adding an element to list\n",
    "\n",
    "\n",
    "__There are different ways to add elements to list__\n",
    "\n",
    "* __Append:__ it appends the element at the end of list\n",
    "\n",
    "```\n",
    "list_var.append(element)\n",
    "```\n",
    "\n",
    "* __Insert:__ used to add element in a list at a particular index\n",
    "\n",
    "```\n",
    "list_var.insert(index, element)\n",
    "```\n",
    "\n",
    "* __Extend:__ Used to extend the list\n",
    "\n",
    "```\n",
    "list_var.extend(another_list)\n",
    "```\n",
    "\n",
    "__NOTE:__ Extend is used to extend the current list to accomodate elements of another list whereas append add the elements at the end and create a nested list if another list is passed as a parameter to a function"
   ]
  },
  {
   "cell_type": "code",
   "execution_count": 30,
   "metadata": {},
   "outputs": [
    {
     "name": "stdout",
     "output_type": "stream",
     "text": [
      "[1, 2, 3, 4, 5, 6]\n",
      "[1, 2, 3, 4, 5, 6, 7]\n",
      "[1, 2, 7, 3, 4, 5, 6]\n",
      "[1, 2, 3, 4, 5, 6, [10, 11, 12]]\n",
      "[1, 2, 3, 4, 5, 6, 10, 11, 12]\n"
     ]
    }
   ],
   "source": [
    "list1 = [1,2,3,4,5,6]\n",
    "print(list1)\n",
    "\n",
    "list1.append(7) #adding an element\n",
    "print(list1)\n",
    "\n",
    "list1 = [1,2,3,4,5,6]\n",
    "list1.insert(2, 7) # add an element 7 to position 2\n",
    "print(list1)\n",
    "\n",
    "list1 = [1,2,3,4,5,6]\n",
    "list2 = [10,11,12]\n",
    "\n",
    "list1.append(list2) #create nested list\n",
    "print(list1)\n",
    "\n",
    "list1 = [1,2,3,4,5,6]\n",
    "list1.extend(list2)\n",
    "print(list1)"
   ]
  },
  {
   "cell_type": "markdown",
   "metadata": {},
   "source": [
    "### Deleting an element from list\n",
    "\n",
    "\n",
    "__There are different ways to delete elements from list__\n",
    "\n",
    "* __Remove:__ it deletes the first occurence of an element\n",
    "\n",
    "```\n",
    "list_var.remove(element)\n",
    "```\n",
    "\n",
    "* __del:__ used to delete element from a particular index\n",
    "\n",
    "```\n",
    "del list_var[index]\n",
    "```\n",
    "\n",
    "* __pop:__ Used to delete element from given index\n",
    "\n",
    "```\n",
    "list_var.pop(index)\n",
    "```\n",
    "\n",
    "__NOTE:__ Pop returns element after removing whereas del command does not"
   ]
  },
  {
   "cell_type": "code",
   "execution_count": 31,
   "metadata": {},
   "outputs": [
    {
     "name": "stdout",
     "output_type": "stream",
     "text": [
      "[1, 2, 3, 7, 4, 5, 6, 7]\n",
      "[1, 2, 3, 4, 5, 6, 7]\n",
      "[1, 2, 3, 5, 6, 7]\n",
      "5\n",
      "[1, 2, 3, 6, 7]\n"
     ]
    }
   ],
   "source": [
    "list1 = [1,2,3,7,4,5,6,7]\n",
    "print(list1)\n",
    "\n",
    "list1.remove(7) # remove first occurence of 7 from list\n",
    "print(list1)\n",
    "\n",
    "del list1[3] #delete third element from the list but does not return anythin\n",
    "print(list1)\n",
    "\n",
    "a = list1.pop(3) # deletes third element from the list and store in a\n",
    "print(a)\n",
    "print(list1)"
   ]
  },
  {
   "cell_type": "markdown",
   "metadata": {},
   "source": [
    "### __Count__\n",
    "\n",
    "Count occurence of a particular element in a list\n",
    "\n",
    "__Syntax:__\n",
    "\n",
    "```\n",
    "list_var.count(element)\n",
    "```"
   ]
  },
  {
   "cell_type": "code",
   "execution_count": 32,
   "metadata": {},
   "outputs": [
    {
     "name": "stdout",
     "output_type": "stream",
     "text": [
      "3\n"
     ]
    }
   ],
   "source": [
    "list1 = [2,4,3,1,2,1,3,2]\n",
    "print(list1.count(2))"
   ]
  },
  {
   "cell_type": "markdown",
   "metadata": {},
   "source": [
    "### __Reverse__\n",
    "\n",
    "Reverses the list\n",
    "\n",
    "__Syntax:__\n",
    "\n",
    "```\n",
    "list1.revers()\n",
    "```"
   ]
  },
  {
   "cell_type": "code",
   "execution_count": 34,
   "metadata": {},
   "outputs": [
    {
     "name": "stdout",
     "output_type": "stream",
     "text": [
      "[2, 4, 3, 1, 2, 1, 3, 2]\n",
      "[2, 3, 1, 2, 1, 3, 4, 2]\n"
     ]
    }
   ],
   "source": [
    "print(list1)\n",
    "list1.reverse()\n",
    "print(list1)"
   ]
  },
  {
   "cell_type": "markdown",
   "metadata": {},
   "source": [
    "### __Sorting__\n",
    "\n",
    "Sort the element of list in a particular order ascending or descending\n",
    "\n",
    "__Different ways to sort a list:__\n",
    "\n",
    "* __sorted:__ function to sort a list\n",
    "\n",
    "__Syntax:__\n",
    "\n",
    "```\n",
    "sorted(list_var, reverse = True/False)\n",
    "```\n",
    "\n",
    "* __sort:__ method to sort a list\n",
    "\n",
    "__Syntax:__\n",
    "\n",
    "```\n",
    "list_var.sort(reverse = True/False)\n",
    "```\n",
    "\n",
    "__NOTE:__\n",
    "\n",
    "* Difference between sorted and sort is that sorted does not change original list whereas sort makes changes in list\n",
    "\n",
    "* By default if reverse is not passed, sorting is done in ascending order."
   ]
  },
  {
   "cell_type": "code",
   "execution_count": 36,
   "metadata": {},
   "outputs": [
    {
     "name": "stdout",
     "output_type": "stream",
     "text": [
      "[1, 2, 12, 13, 32, 43, 412, 423]\n",
      "[1, 32, 12, 43, 2, 13, 423, 412]\n",
      "[1, 2, 12, 13, 32, 43, 412, 423]\n"
     ]
    }
   ],
   "source": [
    "list1 = [1,32,12,43,2,13,423,412]\n",
    "\n",
    "list2 = sorted(list1)\n",
    "\n",
    "print(list2)\n",
    "print(list1)\n",
    "\n",
    "list1.sort()\n",
    "\n",
    "print(list1)"
   ]
  },
  {
   "cell_type": "code",
   "execution_count": 37,
   "metadata": {},
   "outputs": [
    {
     "name": "stdout",
     "output_type": "stream",
     "text": [
      "[423, 412, 43, 32, 13, 12, 2, 1]\n",
      "[1, 32, 12, 43, 2, 13, 423, 412]\n",
      "[423, 412, 43, 32, 13, 12, 2, 1]\n"
     ]
    }
   ],
   "source": [
    "# In Descending order\n",
    "\n",
    "list1 = [1,32,12,43,2,13,423,412]\n",
    "\n",
    "list2 = sorted(list1,reverse = True)\n",
    "\n",
    "print(list2)\n",
    "print(list1)\n",
    "\n",
    "list1.sort(reverse = True)\n",
    "\n",
    "print(list1)"
   ]
  },
  {
   "cell_type": "markdown",
   "metadata": {},
   "source": [
    "### __Copying a list__\n",
    "\n",
    "List have a shared memory. It means that when a list is assigned to another variable then any changes made in any variable is reflected back to other as well"
   ]
  },
  {
   "cell_type": "code",
   "execution_count": 40,
   "metadata": {},
   "outputs": [
    {
     "name": "stdout",
     "output_type": "stream",
     "text": [
      "[2, 3, 5, 1, 6]\n",
      "[2, 3, 5, 1, 6]\n",
      "[2, 5, 1, 6]\n",
      "[2, 5, 1, 6]\n"
     ]
    }
   ],
   "source": [
    "list1 = [2,3,5,1,6]\n",
    "list2 = list1\n",
    "\n",
    "print(list1)\n",
    "print(list2)\n",
    "\n",
    "#removed from both list\n",
    "list1.remove(3)\n",
    "\n",
    "print(list1)\n",
    "print(list2)"
   ]
  },
  {
   "cell_type": "code",
   "execution_count": 43,
   "metadata": {},
   "outputs": [
    {
     "name": "stdout",
     "output_type": "stream",
     "text": [
      "[2, 3, 5, 1, 6]\n",
      "[2, 3, 5, 1, 6]\n",
      "[2, 5, 1, 6]\n",
      "[2, 3, 5, 1, 6]\n"
     ]
    }
   ],
   "source": [
    "list1 = [2,3,5,1,6]\n",
    "list2 = list1.copy()\n",
    "\n",
    "print(list1)\n",
    "print(list2)\n",
    "\n",
    "#removed from list1 only\n",
    "list1.remove(3)\n",
    "\n",
    "print(list1)\n",
    "print(list2)"
   ]
  },
  {
   "cell_type": "markdown",
   "metadata": {},
   "source": [
    "### __Combining into string__\n",
    "\n",
    "Combining elements of list to form a string separated by a delimiter. Delimiter is the character with which you want to separate the elements in string.\n",
    "\n",
    "__Syntax:__\n",
    "\n",
    "```\n",
    "delimiter.join(list_var)\n",
    "```\n"
   ]
  },
  {
   "cell_type": "code",
   "execution_count": 46,
   "metadata": {},
   "outputs": [
    {
     "name": "stdout",
     "output_type": "stream",
     "text": [
      "hello world I am learning python\n",
      "hello;world;I;am;learning;python\n"
     ]
    }
   ],
   "source": [
    "list1 = ['hello','world','I','am','learning','python']\n",
    "\n",
    "#default spaces\n",
    "st = ' '.join(list1)\n",
    "print(st)\n",
    "\n",
    "st = ';'.join(list1)\n",
    "print(st)"
   ]
  },
  {
   "cell_type": "markdown",
   "metadata": {},
   "source": [
    "## __List Comprehension__\n",
    "\n",
    "List comprehension is a compact way of creating a list and is used when the elements are obtained by applying any operation and conditional on iterable or some sequence "
   ]
  },
  {
   "cell_type": "code",
   "execution_count": 50,
   "metadata": {},
   "outputs": [
    {
     "name": "stdout",
     "output_type": "stream",
     "text": [
      "[0, 1, 2, 3, 4, 5, 6, 7, 8, 9]\n",
      "[0, 1, 4, 9, 16, 25, 36, 49, 64, 81]\n",
      "[0, 2, 4, 6, 8]\n"
     ]
    }
   ],
   "source": [
    "# create list of n natural number\n",
    "\n",
    "list1 = [i for i in range(10)]\n",
    "\n",
    "print(list1)\n",
    "\n",
    "# create list of square of natural number\n",
    "\n",
    "list1 = [i**2 for i in range(10)]\n",
    "print(list1)\n",
    "\n",
    "# Create list of even number upto 10\n",
    "\n",
    "list1 = [i for i in range(10) if i%2==0]\n",
    "print(list1)"
   ]
  },
  {
   "cell_type": "code",
   "execution_count": 53,
   "metadata": {},
   "outputs": [
    {
     "name": "stdout",
     "output_type": "stream",
     "text": [
      "[3, 13, 15, 19]\n"
     ]
    }
   ],
   "source": [
    "list2 = [2,3, 26,13,12,15,18,19]\n",
    "\n",
    "# Fetch odd elements from another list\n",
    "list1 = [i for i in list2 if i%2!=0]\n",
    "print(list1)"
   ]
  },
  {
   "cell_type": "markdown",
   "metadata": {},
   "source": [
    "## __Tuple__\n",
    "\n",
    "Tuple is an ordered collection of items. Ordered here refers that it can be indexed as it has some definite order in it. Tuple is just like the List but tuples are __immutable__ i.e. they can't be modified. Tuple can have elements of different data types in it. Indexing of tuple starts with __0__ . \n",
    "\n",
    "Tuple uses __(  )__ and have elements separated by commas  __,__ \n",
    "\n",
    "Tupls can also be created by using __tuple()__ function.\n",
    "\n",
    "__NOTE:__ A single element in a tuple has to be followed by a comma __,__ otherwise it'll be treated under basic data type."
   ]
  },
  {
   "cell_type": "code",
   "execution_count": 1,
   "metadata": {},
   "outputs": [
    {
     "name": "stdout",
     "output_type": "stream",
     "text": [
      "(1, 2, 3, 4)\n",
      "<class 'tuple'>\n"
     ]
    }
   ],
   "source": [
    "t1 = (1,2,3,4)\n",
    "\n",
    "print(t1)\n",
    "print(type(t1))"
   ]
  },
  {
   "cell_type": "code",
   "execution_count": 3,
   "metadata": {},
   "outputs": [
    {
     "name": "stdout",
     "output_type": "stream",
     "text": [
      "2\n",
      "<class 'int'>\n",
      "(2,)\n",
      "<class 'tuple'>\n"
     ]
    }
   ],
   "source": [
    "# Not modifying single element but creating new tuple\n",
    "t1 = (2)\n",
    "print(t1)\n",
    "print(type(t1))\n",
    "\n",
    "t2 = (2,)\n",
    "print(t2)\n",
    "print(type(t2))"
   ]
  },
  {
   "cell_type": "markdown",
   "metadata": {},
   "source": [
    "### __Indexing__\n",
    "\n",
    "An element can be fetched from tuple by giving it's index which starts from 0. Negative indexing is also allowed. Index < len(tuple)\n",
    "\n",
    "```\n",
    "tuple_var[index]\n",
    "```"
   ]
  },
  {
   "cell_type": "code",
   "execution_count": 7,
   "metadata": {},
   "outputs": [
    {
     "name": "stdout",
     "output_type": "stream",
     "text": [
      "(1, 2, 3, 4)\n",
      "3\n",
      "4\n"
     ]
    }
   ],
   "source": [
    "t1 = tuple((1,2,3,4))\n",
    "print(t1)\n",
    "print(t1[2])\n",
    "\n",
    "print(t1[-1])"
   ]
  },
  {
   "cell_type": "markdown",
   "metadata": {},
   "source": [
    "### __Traversing a tuple__\n",
    "\n",
    "Traversing is going through the tuple"
   ]
  },
  {
   "cell_type": "code",
   "execution_count": 8,
   "metadata": {},
   "outputs": [
    {
     "name": "stdout",
     "output_type": "stream",
     "text": [
      "1\n",
      "2\n",
      "3\n",
      "4\n"
     ]
    }
   ],
   "source": [
    "for i in t1:\n",
    "    print(i)"
   ]
  },
  {
   "cell_type": "code",
   "execution_count": 10,
   "metadata": {},
   "outputs": [
    {
     "name": "stdout",
     "output_type": "stream",
     "text": [
      "1\n",
      "2\n",
      "3\n",
      "4\n"
     ]
    }
   ],
   "source": [
    "for i in range(len(t1)):\n",
    "    print(t1[i])"
   ]
  },
  {
   "cell_type": "markdown",
   "metadata": {},
   "source": [
    "### __Slicing__\n",
    "\n",
    "Slicing is a method to obtain a subset of a tuple. Similar to lists"
   ]
  },
  {
   "cell_type": "code",
   "execution_count": 11,
   "metadata": {},
   "outputs": [
    {
     "name": "stdout",
     "output_type": "stream",
     "text": [
      "(1, 2, 3, 4, 5, 1, 2, 3, 4, 5)\n",
      "(1, 2, 3, 4, 5, 1, 2, 3, 4, 5)\n",
      "(3, 5, 2, 4)\n"
     ]
    }
   ],
   "source": [
    "t1 = (1,2,3,4,5,1,2,3,4,5)\n",
    "print(t1)\n",
    "print(t1[:])\n",
    "print(t1[2::2])"
   ]
  },
  {
   "cell_type": "markdown",
   "metadata": {},
   "source": [
    "### __Mutability__"
   ]
  },
  {
   "cell_type": "code",
   "execution_count": 12,
   "metadata": {},
   "outputs": [
    {
     "name": "stdout",
     "output_type": "stream",
     "text": [
      "(1, 2, 3, 4, 5, 1, 2, 3, 4, 5)\n"
     ]
    }
   ],
   "source": [
    "print(t1)"
   ]
  },
  {
   "cell_type": "code",
   "execution_count": 13,
   "metadata": {},
   "outputs": [
    {
     "ename": "TypeError",
     "evalue": "'tuple' object does not support item assignment",
     "output_type": "error",
     "traceback": [
      "\u001b[1;31m---------------------------------------------------------------------------\u001b[0m",
      "\u001b[1;31mTypeError\u001b[0m                                 Traceback (most recent call last)",
      "\u001b[1;32m<ipython-input-13-be9633e2fd1d>\u001b[0m in \u001b[0;36m<module>\u001b[1;34m\u001b[0m\n\u001b[1;32m----> 1\u001b[1;33m \u001b[0mt1\u001b[0m\u001b[1;33m[\u001b[0m\u001b[1;36m3\u001b[0m\u001b[1;33m]\u001b[0m \u001b[1;33m=\u001b[0m \u001b[1;36m6\u001b[0m \u001b[1;31m#Error as it is immutable\u001b[0m\u001b[1;33m\u001b[0m\u001b[1;33m\u001b[0m\u001b[0m\n\u001b[0m",
      "\u001b[1;31mTypeError\u001b[0m: 'tuple' object does not support item assignment"
     ]
    }
   ],
   "source": [
    "t1[3] = 6 #Error as it is immutable"
   ]
  },
  {
   "cell_type": "markdown",
   "metadata": {},
   "source": [
    "### __Nested tuple__\n",
    "\n",
    "Tuple can be nested inside each other. Lists can also be nested inside tuple"
   ]
  },
  {
   "cell_type": "code",
   "execution_count": 23,
   "metadata": {},
   "outputs": [
    {
     "name": "stdout",
     "output_type": "stream",
     "text": [
      "(1, 2, 3, (6, 7, 8), [10, 11, 12])\n"
     ]
    }
   ],
   "source": [
    "t1 = (1,2,3,(6,7,8),[10,11,12])\n",
    "print(t1)"
   ]
  },
  {
   "cell_type": "markdown",
   "metadata": {},
   "source": [
    "__NOTE:__ Since list is mutable therefore the elements of nested list inside a tuple can be modified"
   ]
  },
  {
   "cell_type": "code",
   "execution_count": 24,
   "metadata": {},
   "outputs": [
    {
     "name": "stdout",
     "output_type": "stream",
     "text": [
      "(1, 2, 3, (6, 7, 8), [10, 11, 12])\n",
      "[10, 11, 12]\n",
      "(1, 2, 3, (6, 7, 8), [10, 51, 12])\n"
     ]
    }
   ],
   "source": [
    "print(t1)\n",
    "print(t1[4])\n",
    "t1[4][1] = 51\n",
    "print(t1)"
   ]
  },
  {
   "cell_type": "markdown",
   "metadata": {},
   "source": [
    "## __Some important function in tuple__"
   ]
  },
  {
   "cell_type": "markdown",
   "metadata": {},
   "source": [
    "### __Find length__\n",
    "\n",
    "__Syntax:__\n",
    "\n",
    "```\n",
    "len(tuple_var)\n",
    "```"
   ]
  },
  {
   "cell_type": "code",
   "execution_count": 30,
   "metadata": {},
   "outputs": [
    {
     "name": "stdout",
     "output_type": "stream",
     "text": [
      "7\n"
     ]
    }
   ],
   "source": [
    "t1 = (1,2,3,12,41,123,42)\n",
    "print(len(t1))"
   ]
  },
  {
   "cell_type": "markdown",
   "metadata": {},
   "source": [
    "### __Appending two tuples__\n",
    "\n",
    "__Syntax:__\n",
    "\n",
    "```\n",
    "tuple_var1 + tuple_var2\n",
    "```"
   ]
  },
  {
   "cell_type": "code",
   "execution_count": 31,
   "metadata": {},
   "outputs": [
    {
     "name": "stdout",
     "output_type": "stream",
     "text": [
      "(1, 2, 3, 4, 5, 6)\n"
     ]
    }
   ],
   "source": [
    "t1 = (1,2,3)\n",
    "t2 = (4,5,6)\n",
    "t3 = t1 + t2\n",
    "print(t3)"
   ]
  },
  {
   "cell_type": "markdown",
   "metadata": {},
   "source": [
    "### __Deleting__\n",
    "\n",
    "Since tuple is immutable, no single element can be deleted from a tuple. Instead complete tuple is deleted.\n",
    "\n",
    "__Syntax:__\n",
    "\n",
    "```\n",
    "del tuple_var\n",
    "```"
   ]
  },
  {
   "cell_type": "code",
   "execution_count": 32,
   "metadata": {},
   "outputs": [
    {
     "name": "stdout",
     "output_type": "stream",
     "text": [
      "(2, 4, 1, 5, 6)\n"
     ]
    },
    {
     "ename": "TypeError",
     "evalue": "'tuple' object doesn't support item deletion",
     "output_type": "error",
     "traceback": [
      "\u001b[1;31m---------------------------------------------------------------------------\u001b[0m",
      "\u001b[1;31mTypeError\u001b[0m                                 Traceback (most recent call last)",
      "\u001b[1;32m<ipython-input-32-e4c218c99d19>\u001b[0m in \u001b[0;36m<module>\u001b[1;34m\u001b[0m\n\u001b[0;32m      2\u001b[0m \u001b[0mprint\u001b[0m\u001b[1;33m(\u001b[0m\u001b[0mt1\u001b[0m\u001b[1;33m)\u001b[0m\u001b[1;33m\u001b[0m\u001b[1;33m\u001b[0m\u001b[0m\n\u001b[0;32m      3\u001b[0m \u001b[1;33m\u001b[0m\u001b[0m\n\u001b[1;32m----> 4\u001b[1;33m \u001b[1;32mdel\u001b[0m \u001b[0mt1\u001b[0m\u001b[1;33m[\u001b[0m\u001b[1;36m3\u001b[0m\u001b[1;33m]\u001b[0m \u001b[1;31m#Error\u001b[0m\u001b[1;33m\u001b[0m\u001b[1;33m\u001b[0m\u001b[0m\n\u001b[0m",
      "\u001b[1;31mTypeError\u001b[0m: 'tuple' object doesn't support item deletion"
     ]
    }
   ],
   "source": [
    "t1 = (2,4,1,5,6)\n",
    "print(t1)\n",
    "\n",
    "del t1[3] #Error"
   ]
  },
  {
   "cell_type": "code",
   "execution_count": 33,
   "metadata": {},
   "outputs": [
    {
     "name": "stdout",
     "output_type": "stream",
     "text": [
      "(2, 4, 1, 5, 6)\n"
     ]
    },
    {
     "ename": "NameError",
     "evalue": "name 't1' is not defined",
     "output_type": "error",
     "traceback": [
      "\u001b[1;31m---------------------------------------------------------------------------\u001b[0m",
      "\u001b[1;31mNameError\u001b[0m                                 Traceback (most recent call last)",
      "\u001b[1;32m<ipython-input-33-f317d61194ce>\u001b[0m in \u001b[0;36m<module>\u001b[1;34m\u001b[0m\n\u001b[0;32m      1\u001b[0m \u001b[0mprint\u001b[0m\u001b[1;33m(\u001b[0m\u001b[0mt1\u001b[0m\u001b[1;33m)\u001b[0m\u001b[1;33m\u001b[0m\u001b[1;33m\u001b[0m\u001b[0m\n\u001b[0;32m      2\u001b[0m \u001b[1;32mdel\u001b[0m \u001b[0mt1\u001b[0m \u001b[1;31m#deleted tuple\u001b[0m\u001b[1;33m\u001b[0m\u001b[1;33m\u001b[0m\u001b[0m\n\u001b[1;32m----> 3\u001b[1;33m \u001b[0mprint\u001b[0m\u001b[1;33m(\u001b[0m\u001b[0mt1\u001b[0m\u001b[1;33m)\u001b[0m\u001b[1;33m\u001b[0m\u001b[1;33m\u001b[0m\u001b[0m\n\u001b[0m",
      "\u001b[1;31mNameError\u001b[0m: name 't1' is not defined"
     ]
    }
   ],
   "source": [
    "print(t1)\n",
    "del t1 #deleted tuple\n",
    "print(t1)"
   ]
  },
  {
   "cell_type": "markdown",
   "metadata": {},
   "source": [
    "### __Count elements__\n",
    "\n",
    "Counts the occurence of a particular element in a tuple.\n",
    "\n",
    "__Syntax:__\n",
    "\n",
    "```\n",
    "tuple_var.count(element)\n",
    "```"
   ]
  },
  {
   "cell_type": "code",
   "execution_count": 34,
   "metadata": {},
   "outputs": [
    {
     "name": "stdout",
     "output_type": "stream",
     "text": [
      "3\n"
     ]
    }
   ],
   "source": [
    "t1 = (1,2,4,5,1,3,5,6,1)\n",
    "print(t1.count(1))"
   ]
  },
  {
   "cell_type": "markdown",
   "metadata": {},
   "source": [
    "### __Find Index of element__\n",
    "\n",
    "Returns index of the first occurence of an element inside a tuple\n",
    "\n",
    "__Syntax:__\n",
    "\n",
    "```\n",
    "tuple_var.index(element)\n",
    "```"
   ]
  },
  {
   "cell_type": "code",
   "execution_count": 35,
   "metadata": {},
   "outputs": [
    {
     "name": "stdout",
     "output_type": "stream",
     "text": [
      "3\n"
     ]
    }
   ],
   "source": [
    "t1 = (1,2,4,5,1,3,5,6,1)\n",
    "print(t1.index(5))"
   ]
  },
  {
   "cell_type": "markdown",
   "metadata": {},
   "source": [
    "### __Sorting a tuple__\n",
    "\n",
    "Sorting a tuple returns a list after sorting the elements in a tuple without making any changes in the tuple itself.\n",
    "\n",
    "__Syntax:__\n",
    "\n",
    "```\n",
    "sorted(tuple_var,reverse=True/False)\n",
    "```\n",
    "\n",
    "__NOTE:__ reverse parameter is optional and by default is False, so it'll return list in ascending order"
   ]
  },
  {
   "cell_type": "code",
   "execution_count": 36,
   "metadata": {},
   "outputs": [
    {
     "name": "stdout",
     "output_type": "stream",
     "text": [
      "<class 'tuple'>\n",
      "(3, 23, 1, 16, 12, 2, 13)\n",
      "<class 'list'>\n",
      "[1, 2, 3, 12, 13, 16, 23]\n",
      "<class 'tuple'>\n",
      "(3, 23, 1, 16, 12, 2, 13)\n"
     ]
    }
   ],
   "source": [
    "t1 = (3, 23, 1, 16, 12, 2, 13)\n",
    "\n",
    "print(type(t1))\n",
    "print(t1)\n",
    "sorted_var = sorted(t1)\n",
    "print(type(sorted_var))\n",
    "print(sorted_var)\n",
    "print(type(t1))\n",
    "print(t1)"
   ]
  },
  {
   "cell_type": "code",
   "execution_count": 37,
   "metadata": {},
   "outputs": [
    {
     "name": "stdout",
     "output_type": "stream",
     "text": [
      "<class 'tuple'>\n",
      "(3, 23, 1, 16, 12, 2, 13)\n",
      "<class 'list'>\n",
      "[23, 16, 13, 12, 3, 2, 1]\n",
      "<class 'tuple'>\n",
      "(3, 23, 1, 16, 12, 2, 13)\n"
     ]
    }
   ],
   "source": [
    "t1 = (3, 23, 1, 16, 12, 2, 13)\n",
    "\n",
    "print(type(t1))\n",
    "print(t1)\n",
    "sorted_var = sorted(t1,reverse=True)\n",
    "print(type(sorted_var))\n",
    "print(sorted_var)\n",
    "print(type(t1))\n",
    "print(t1)"
   ]
  },
  {
   "cell_type": "markdown",
   "metadata": {},
   "source": [
    "### __Sum elements__\n",
    "\n",
    "Find sum of elements in a tuple.\n",
    "\n",
    "__Syntax:__\n",
    "\n",
    "```\n",
    "sum(tuple_var)\n",
    "```"
   ]
  },
  {
   "cell_type": "code",
   "execution_count": 39,
   "metadata": {},
   "outputs": [
    {
     "name": "stdout",
     "output_type": "stream",
     "text": [
      "70\n"
     ]
    }
   ],
   "source": [
    "t1 = (3, 23, 1, 16, 12, 2, 13)\n",
    "\n",
    "sum_var = sum(t1)\n",
    "print(sum_var)"
   ]
  },
  {
   "cell_type": "markdown",
   "metadata": {},
   "source": [
    "## __Sets__\n",
    "\n",
    "Unordered collections of items. Every element in a set is unique, no repetition is allowed. Sets are mutable i.e the elements in it can be modified. Unordered refers that the items doesn't have any index associated with it and thus can't be indexed. Generally used to carry out mathematical operations like union, intersection, etc.\n",
    "\n",
    "Sets uses __{ }__ and contains elements separated by __,__\n",
    "\n",
    "You can create sets by passing an iterator like lists or tuple to the __sets()__ function.\n",
    "\n",
    "Sets can have elements of mixed data types and can only have have nested tuples as lists and sets are mutable."
   ]
  },
  {
   "cell_type": "code",
   "execution_count": 12,
   "metadata": {},
   "outputs": [
    {
     "name": "stdout",
     "output_type": "stream",
     "text": [
      "{1, 2, 3, 4.3, 'a', (3, 4)}\n",
      "<class 'set'>\n"
     ]
    }
   ],
   "source": [
    "# Creating a set\n",
    "\n",
    "set1 = {1, 2, 3, 4.3, 'a', (3,4)}\n",
    "\n",
    "print(set1)\n",
    "print(type(set1))"
   ]
  },
  {
   "cell_type": "code",
   "execution_count": 13,
   "metadata": {},
   "outputs": [
    {
     "name": "stdout",
     "output_type": "stream",
     "text": [
      "[1, 2, 3, 1, 1, 2, 4, 5, 1, 2]\n",
      "<class 'list'>\n",
      "{1, 2, 3, 4, 5}\n",
      "<class 'set'>\n"
     ]
    }
   ],
   "source": [
    "# Notice repeated element is removed\n",
    "\n",
    "list1 = [1, 2, 3, 1, 1, 2, 4, 5, 1, 2]\n",
    "print(list1)\n",
    "print(type(list1))\n",
    "\n",
    "set1 = set(list1)\n",
    "print(set1)\n",
    "print(type(set1))"
   ]
  },
  {
   "cell_type": "code",
   "execution_count": 16,
   "metadata": {},
   "outputs": [
    {
     "name": "stdout",
     "output_type": "stream",
     "text": [
      "{'l', 'h', 'o', 'e'}\n"
     ]
    }
   ],
   "source": [
    "st = 'hello'\n",
    "set1 = set(st)\n",
    "print(set1)"
   ]
  },
  {
   "cell_type": "code",
   "execution_count": 14,
   "metadata": {},
   "outputs": [
    {
     "ename": "TypeError",
     "evalue": "'set' object is not subscriptable",
     "output_type": "error",
     "traceback": [
      "\u001b[1;31m---------------------------------------------------------------------------\u001b[0m",
      "\u001b[1;31mTypeError\u001b[0m                                 Traceback (most recent call last)",
      "\u001b[1;32m<ipython-input-14-e3f413e3b047>\u001b[0m in \u001b[0;36m<module>\u001b[1;34m\u001b[0m\n\u001b[0;32m      1\u001b[0m \u001b[1;31m# Indexing can't be done and will return an error\u001b[0m\u001b[1;33m\u001b[0m\u001b[1;33m\u001b[0m\u001b[1;33m\u001b[0m\u001b[0m\n\u001b[0;32m      2\u001b[0m \u001b[1;33m\u001b[0m\u001b[0m\n\u001b[1;32m----> 3\u001b[1;33m \u001b[0mprint\u001b[0m\u001b[1;33m(\u001b[0m\u001b[0mset1\u001b[0m\u001b[1;33m[\u001b[0m\u001b[1;36m0\u001b[0m\u001b[1;33m]\u001b[0m\u001b[1;33m)\u001b[0m\u001b[1;33m\u001b[0m\u001b[1;33m\u001b[0m\u001b[0m\n\u001b[0m",
      "\u001b[1;31mTypeError\u001b[0m: 'set' object is not subscriptable"
     ]
    }
   ],
   "source": [
    "# Indexing can't be done and will return an error\n",
    "\n",
    "print(set1[0])"
   ]
  },
  {
   "cell_type": "markdown",
   "metadata": {},
   "source": [
    "## __Traversing__\n",
    "\n",
    "Similar to lists and for loop except you can't use indexing for traversing."
   ]
  },
  {
   "cell_type": "code",
   "execution_count": 15,
   "metadata": {},
   "outputs": [
    {
     "name": "stdout",
     "output_type": "stream",
     "text": [
      "1\n",
      "2\n",
      "3\n",
      "4\n",
      "5\n"
     ]
    }
   ],
   "source": [
    "for i in set1:\n",
    "    print(i)"
   ]
  },
  {
   "cell_type": "markdown",
   "metadata": {},
   "source": [
    "## __Some important function in sets__"
   ]
  },
  {
   "cell_type": "markdown",
   "metadata": {},
   "source": [
    "## __Find length__\n",
    "\n",
    "__Syntax:__\n",
    "\n",
    "```\n",
    "len(set_var)\n",
    "```"
   ]
  },
  {
   "cell_type": "code",
   "execution_count": 26,
   "metadata": {},
   "outputs": [
    {
     "name": "stdout",
     "output_type": "stream",
     "text": [
      "{1, 2, 3, 7, 9}\n"
     ]
    },
    {
     "data": {
      "text/plain": [
       "5"
      ]
     },
     "execution_count": 26,
     "metadata": {},
     "output_type": "execute_result"
    }
   ],
   "source": [
    "set1 = {1, 2, 3, 7, 9}\n",
    "print(set1)\n",
    "len(set1)"
   ]
  },
  {
   "cell_type": "markdown",
   "metadata": {},
   "source": [
    "## __Adding items to sets__\n",
    "\n",
    "There are two different functions to add items to the set:-\n",
    "\n",
    "* __add:__ Adds a single element in a set\n",
    "\n",
    "__Syntax :__\n",
    "\n",
    "```\n",
    "set_var.add(element)\n",
    "```\n",
    "\n",
    "* __update:__ Adds multiple elements in a set\n",
    "\n",
    "__Syntax:__\n",
    "\n",
    "```\n",
    "set_var.update(iterable)\n",
    "```"
   ]
  },
  {
   "cell_type": "code",
   "execution_count": 18,
   "metadata": {},
   "outputs": [
    {
     "name": "stdout",
     "output_type": "stream",
     "text": [
      "{1, 2, 3}\n"
     ]
    }
   ],
   "source": [
    "set1 = set([1, 2, 3])\n",
    "\n",
    "print(set1)"
   ]
  },
  {
   "cell_type": "code",
   "execution_count": 20,
   "metadata": {},
   "outputs": [
    {
     "name": "stdout",
     "output_type": "stream",
     "text": [
      "{1, 2, 3, 5}\n"
     ]
    }
   ],
   "source": [
    "set1.add(5)\n",
    "print(set1)"
   ]
  },
  {
   "cell_type": "code",
   "execution_count": 22,
   "metadata": {},
   "outputs": [
    {
     "ename": "TypeError",
     "evalue": "add() takes exactly one argument (2 given)",
     "output_type": "error",
     "traceback": [
      "\u001b[1;31m---------------------------------------------------------------------------\u001b[0m",
      "\u001b[1;31mTypeError\u001b[0m                                 Traceback (most recent call last)",
      "\u001b[1;32m<ipython-input-22-2e8144133d77>\u001b[0m in \u001b[0;36m<module>\u001b[1;34m\u001b[0m\n\u001b[1;32m----> 1\u001b[1;33m \u001b[0mset1\u001b[0m\u001b[1;33m.\u001b[0m\u001b[0madd\u001b[0m\u001b[1;33m(\u001b[0m\u001b[1;36m4\u001b[0m\u001b[1;33m,\u001b[0m\u001b[1;36m6\u001b[0m\u001b[1;33m)\u001b[0m\u001b[1;33m\u001b[0m\u001b[1;33m\u001b[0m\u001b[0m\n\u001b[0m",
      "\u001b[1;31mTypeError\u001b[0m: add() takes exactly one argument (2 given)"
     ]
    }
   ],
   "source": [
    "# can't add multiple elements\n",
    "set1.add(4,6)"
   ]
  },
  {
   "cell_type": "code",
   "execution_count": 24,
   "metadata": {},
   "outputs": [
    {
     "name": "stdout",
     "output_type": "stream",
     "text": [
      "{1, 2, 3, 4, 5, 6}\n"
     ]
    }
   ],
   "source": [
    "# any iterable can be passed\n",
    "set1.update([4,6])\n",
    "print(set1)"
   ]
  },
  {
   "cell_type": "markdown",
   "metadata": {},
   "source": [
    "## __ Deleting from sets__\n",
    "\n",
    "Following function can be executed to remove elements from a set\n",
    "\n",
    "* __discard:__ Discards the given element from set. __If the element is not present in set, it doesn't raise an error.__\n",
    "\n",
    "__Syntax:__\n",
    "\n",
    "```\n",
    "set_var.discard(element)\n",
    "```\n",
    "\n",
    "* __remove:__ Removes the given element from set. __If the element is not present in set, it raises an error.__\n",
    "\n",
    "__Syntax:__\n",
    "\n",
    "```\n",
    "set_var.remove(element)\n",
    "```\n",
    "\n",
    "* __pop:__ Removes any element from set randomly. \n",
    "\n",
    "__Syntax:__\n",
    "\n",
    "```\n",
    "set_var.pop()\n",
    "```\n",
    "\n",
    "* __clear:__ Clears entire set. Deletes all elements.\n",
    "\n",
    "__Syntax:__\n",
    "\n",
    "```\n",
    "set_var.clear()\n",
    "```"
   ]
  },
  {
   "cell_type": "code",
   "execution_count": 35,
   "metadata": {},
   "outputs": [
    {
     "name": "stdout",
     "output_type": "stream",
     "text": [
      "{1, 3, 6, 8, 9, 10, 11, 12}\n",
      "{1, 6, 8, 9, 10, 11, 12}\n",
      "{1, 6, 8, 9, 10, 11, 12}\n"
     ]
    },
    {
     "ename": "KeyError",
     "evalue": "5",
     "output_type": "error",
     "traceback": [
      "\u001b[1;31m---------------------------------------------------------------------------\u001b[0m",
      "\u001b[1;31mKeyError\u001b[0m                                  Traceback (most recent call last)",
      "\u001b[1;32m<ipython-input-35-072f7016d6e5>\u001b[0m in \u001b[0;36m<module>\u001b[1;34m\u001b[0m\n\u001b[0;32m     10\u001b[0m \u001b[0mprint\u001b[0m\u001b[1;33m(\u001b[0m\u001b[0mset1\u001b[0m\u001b[1;33m)\u001b[0m\u001b[1;33m\u001b[0m\u001b[1;33m\u001b[0m\u001b[0m\n\u001b[0;32m     11\u001b[0m \u001b[1;33m\u001b[0m\u001b[0m\n\u001b[1;32m---> 12\u001b[1;33m \u001b[0mset1\u001b[0m\u001b[1;33m.\u001b[0m\u001b[0mremove\u001b[0m\u001b[1;33m(\u001b[0m\u001b[1;36m5\u001b[0m\u001b[1;33m)\u001b[0m\u001b[1;33m\u001b[0m\u001b[1;33m\u001b[0m\u001b[0m\n\u001b[0m\u001b[0;32m     13\u001b[0m \u001b[0mprint\u001b[0m\u001b[1;33m(\u001b[0m\u001b[0mset1\u001b[0m\u001b[1;33m)\u001b[0m\u001b[1;33m\u001b[0m\u001b[1;33m\u001b[0m\u001b[0m\n\u001b[0;32m     14\u001b[0m \u001b[1;33m\u001b[0m\u001b[0m\n",
      "\u001b[1;31mKeyError\u001b[0m: 5"
     ]
    }
   ],
   "source": [
    "set1 = {1, 3, 6, 8, 9, 10, 11, 12}\n",
    "\n",
    "print(set1)\n",
    "\n",
    "set1.discard(3)\n",
    "print(set1)\n",
    "\n",
    "# 3 is removed and not present, but discard won't raise error\n",
    "set1.discard(3)\n",
    "print(set1)\n",
    "\n",
    "set1.remove(5)\n",
    "print(set1)\n",
    "\n",
    "# 5 is removed and not present, remove will raise error\n",
    "set1.remove(5)\n",
    "print(set1)"
   ]
  },
  {
   "cell_type": "code",
   "execution_count": 36,
   "metadata": {},
   "outputs": [
    {
     "name": "stdout",
     "output_type": "stream",
     "text": [
      "1 is popped randomly from set\n",
      "{6, 8, 9, 10, 11, 12}\n"
     ]
    }
   ],
   "source": [
    "var = set1.pop()\n",
    "print(\"{} is popped randomly from set\".format(var))\n",
    "print(set1)"
   ]
  },
  {
   "cell_type": "code",
   "execution_count": 38,
   "metadata": {},
   "outputs": [
    {
     "name": "stdout",
     "output_type": "stream",
     "text": [
      "set()\n"
     ]
    }
   ],
   "source": [
    "set1.clear()\n",
    "# Only empty set is left\n",
    "print(set1)"
   ]
  },
  {
   "cell_type": "markdown",
   "metadata": {},
   "source": [
    "## __Union__\n",
    "\n",
    "Mathematical operation performed on set which takes union of two sets i.e combine all the elements present in either of the two sets.\n",
    "\n",
    "__Syntax:__\n",
    "\n",
    "```\n",
    "(set1 | set2)\n",
    "\n",
    "or\n",
    "\n",
    "(set1.union(set2))\n",
    "```"
   ]
  },
  {
   "cell_type": "code",
   "execution_count": 39,
   "metadata": {
    "scrolled": true
   },
   "outputs": [
    {
     "name": "stdout",
     "output_type": "stream",
     "text": [
      "{1, 2, 3, 4, 6, 8}\n",
      "{1, 2, 3, 4, 6, 8}\n"
     ]
    }
   ],
   "source": [
    "set1 = {1, 2 , 3, 4}\n",
    "set2 = {2, 4, 6, 8}\n",
    "\n",
    "# Repetition not allowed\n",
    "set3 = (set1 | set2)\n",
    "print(set3)\n",
    "\n",
    "set4 = set1.union(set2)\n",
    "print(set4)"
   ]
  },
  {
   "cell_type": "markdown",
   "metadata": {},
   "source": [
    "## __Intersection__\n",
    "\n",
    "Mathematical operation performed on set which takes intersection of two sets i.e combine elements that are present in both of the two sets.\n",
    "\n",
    "__Syntax:__\n",
    "\n",
    "```\n",
    "(set1 & set2)\n",
    "\n",
    "or\n",
    "\n",
    "(set1.intersection(set2))\n",
    "```"
   ]
  },
  {
   "cell_type": "code",
   "execution_count": 40,
   "metadata": {
    "scrolled": true
   },
   "outputs": [
    {
     "name": "stdout",
     "output_type": "stream",
     "text": [
      "{2, 4}\n",
      "{2, 4}\n"
     ]
    }
   ],
   "source": [
    "set1 = {1, 2 , 3, 4}\n",
    "set2 = {2, 4, 6, 8}\n",
    "\n",
    "# Repetition not allowed\n",
    "set3 = (set1 & set2)\n",
    "print(set3)\n",
    "\n",
    "set4 = set1.intersection(set2)\n",
    "print(set4)"
   ]
  },
  {
   "cell_type": "markdown",
   "metadata": {},
   "source": [
    "## __Difference__\n",
    "\n",
    "Mathematical operation performed on set which takes diffenece of two sets i.e find elements of the set present in set1 but not in set2\n",
    "\n",
    "__Syntax:__\n",
    "\n",
    "```\n",
    "(set1 - set2)\n",
    "\n",
    "or\n",
    "\n",
    "(set1.difference(set2))\n",
    "```"
   ]
  },
  {
   "cell_type": "code",
   "execution_count": 41,
   "metadata": {
    "scrolled": true
   },
   "outputs": [
    {
     "name": "stdout",
     "output_type": "stream",
     "text": [
      "{1, 3}\n",
      "{1, 3}\n"
     ]
    }
   ],
   "source": [
    "set1 = {1, 2 , 3, 4}\n",
    "set2 = {2, 4, 6, 8}\n",
    "\n",
    "# Repetition not allowed\n",
    "set3 = (set1 - set2)\n",
    "print(set3)\n",
    "\n",
    "set4 = set1.difference(set2)\n",
    "print(set4)"
   ]
  },
  {
   "cell_type": "markdown",
   "metadata": {},
   "source": [
    "## __Symmetric Difference__\n",
    "\n",
    "Mathematical operation performed on set which takes dymmetric difference of two sets i.e find elements present in set1 union set2 but not in set1 intersection set2\n",
    "\n",
    "__Syntax:__\n",
    "\n",
    "```\n",
    "(set1 ^ set2)\n",
    "\n",
    "or\n",
    "\n",
    "(set1.symmetric_difference(set2))\n",
    "```"
   ]
  },
  {
   "cell_type": "code",
   "execution_count": 42,
   "metadata": {
    "scrolled": true
   },
   "outputs": [
    {
     "name": "stdout",
     "output_type": "stream",
     "text": [
      "{1, 3, 6, 8}\n",
      "{1, 3, 6, 8}\n"
     ]
    }
   ],
   "source": [
    "set1 = {1, 2 , 3, 4}\n",
    "set2 = {2, 4, 6, 8}\n",
    "\n",
    "# Repetition not allowed\n",
    "set3 = (set1 ^ set2)\n",
    "print(set3)\n",
    "\n",
    "set4 = set1.symmetric_difference(set2)\n",
    "print(set4)"
   ]
  },
  {
   "cell_type": "markdown",
   "metadata": {},
   "source": [
    "## __Subset__\n",
    "\n",
    "Find if set1 is a subset of set2 or not or vice versa.\n",
    "\n",
    "__Syntax:__\n",
    "\n",
    "```\n",
    "set1.issubset(set2)\n",
    "```"
   ]
  },
  {
   "cell_type": "code",
   "execution_count": 43,
   "metadata": {},
   "outputs": [
    {
     "name": "stdout",
     "output_type": "stream",
     "text": [
      "False\n",
      "True\n"
     ]
    }
   ],
   "source": [
    "set1 = {1, 2, 3, 4}\n",
    "set2 = {2, 3}\n",
    "print(set1.issubset(set2))\n",
    "print(set2.issubset(set1))"
   ]
  },
  {
   "cell_type": "code",
   "execution_count": null,
   "metadata": {},
   "outputs": [],
   "source": []
  }
 ],
 "metadata": {
  "kernelspec": {
   "display_name": "Python 3",
   "language": "python",
   "name": "python3"
  },
  "language_info": {
   "codemirror_mode": {
    "name": "ipython",
    "version": 3
   },
   "file_extension": ".py",
   "mimetype": "text/x-python",
   "name": "python",
   "nbconvert_exporter": "python",
   "pygments_lexer": "ipython3",
   "version": "3.7.6"
  }
 },
 "nbformat": 4,
 "nbformat_minor": 4
}
