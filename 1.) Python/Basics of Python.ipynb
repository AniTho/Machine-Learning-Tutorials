{
 "cells": [
  {
   "cell_type": "markdown",
   "metadata": {},
   "source": [
    "# Python Basics\n"
   ]
  },
  {
   "cell_type": "markdown",
   "metadata": {},
   "source": [
    "##  __Keywords__\n",
    "\n",
    "Keywords are the reserved words in any languages which can't be used as a literal or identifier and is case sensitive."
   ]
  },
  {
   "cell_type": "code",
   "execution_count": 1,
   "metadata": {},
   "outputs": [
    {
     "name": "stdout",
     "output_type": "stream",
     "text": [
      "['False', 'None', 'True', 'and', 'as', 'assert', 'async', 'await', 'break', 'class', 'continue', 'def', 'del', 'elif', 'else', 'except', 'finally', 'for', 'from', 'global', 'if', 'import', 'in', 'is', 'lambda', 'nonlocal', 'not', 'or', 'pass', 'raise', 'return', 'try', 'while', 'with', 'yield']\n"
     ]
    }
   ],
   "source": [
    "# import keyword library\n",
    "import keyword\n",
    "\n",
    "# print the list of keywords\n",
    "print(keyword.kwlist)"
   ]
  },
  {
   "cell_type": "markdown",
   "metadata": {},
   "source": [
    "__Note :__\n",
    "\n",
    "\n",
    "* We can use the code of other people in our own work by importing it in our project by using : __import < module name >__\n",
    "\n",
    "* To use any function or any variable in that library or module by using __< module name >.< function name >()__ or __< module name >.< variable name >__ \n"
   ]
  },
  {
   "cell_type": "markdown",
   "metadata": {},
   "source": [
    "## __Identifiers__\n",
    "\n",
    "Identifiers are the name given to any variable, function or class.\n",
    "\n",
    "__Following are the properties of an Identifier:__\n",
    "\n",
    "* It should not start with a number\n",
    "* Should only contain alpha numeric character (a-z / A-Z / 0-9) and a special character ( _ ) underscore\n",
    "* Should not have any other special character except ( _ ) underscore\n",
    "* Is case sensitive\n",
    "* Keywords can't be used"
   ]
  },
  {
   "cell_type": "code",
   "execution_count": null,
   "metadata": {},
   "outputs": [],
   "source": [
    "variable1 = 123 #correct\n",
    "\n",
    "1variable = 123 #incorrect\n",
    "\n",
    "var_i1able = 123 #correct\n",
    "\n",
    "var$iable = 123 #incorrect\n",
    "\n",
    "return = 123 #incorrect "
   ]
  },
  {
   "cell_type": "markdown",
   "metadata": {},
   "source": [
    "## __Comments__\n",
    "\n",
    "Comments are added to our code to make it more readable and understandable and is often ignored by the compiler or interpreter\n",
    "\n",
    "__It can be:__\n",
    "\n",
    "* __Single Line Comments__ :- Starts with __# comment__ and generally spans through only a single line\n",
    "* __Multi Line Comments__ :- Starts and ends with triple quotes __''' comment '''__ or __\"\"\" comment \"\"\"__ and can span through multiple lines"
   ]
  },
  {
   "cell_type": "code",
   "execution_count": 6,
   "metadata": {},
   "outputs": [],
   "source": [
    "# Example of single line comment\n",
    "\n",
    "''' This is an example\n",
    "of multiline comments\n",
    "used in python '''\n",
    "\n",
    "\"\"\" This is also an example\n",
    "of Multiline comments\n",
    "used in python\n",
    "\"\"\";\n",
    "\n",
    "# Semicolon at the end denotes no output from an ipython notebook cell"
   ]
  },
  {
   "cell_type": "markdown",
   "metadata": {},
   "source": [
    "## __Variables__\n",
    "\n",
    "Name given to a value stored in some memory location.\n",
    "\n",
    "__It has some following properties :__\n",
    "\n",
    "* Case sensitive\n",
    "* Naming rule same as of identifiers\n",
    "* In python, you need not explicitly tell the data type of the value that is to be stored\n",
    "\n",
    "Assignment of value is done by __=__ operator which assigns the right hand side to left hand side"
   ]
  },
  {
   "cell_type": "code",
   "execution_count": 7,
   "metadata": {},
   "outputs": [
    {
     "ename": "SyntaxError",
     "evalue": "invalid syntax (<ipython-input-7-78041125b719>, line 1)",
     "output_type": "error",
     "traceback": [
      "\u001b[1;36m  File \u001b[1;32m\"<ipython-input-7-78041125b719>\"\u001b[1;36m, line \u001b[1;32m1\u001b[0m\n\u001b[1;33m    int a = 3 # Data type Not needed in python\u001b[0m\n\u001b[1;37m        ^\u001b[0m\n\u001b[1;31mSyntaxError\u001b[0m\u001b[1;31m:\u001b[0m invalid syntax\n"
     ]
    }
   ],
   "source": [
    "int a = 3 # Data type Not needed in python"
   ]
  },
  {
   "cell_type": "code",
   "execution_count": 8,
   "metadata": {},
   "outputs": [
    {
     "name": "stdout",
     "output_type": "stream",
     "text": [
      "3\n",
      "A 2.36 4\n",
      "4 4\n"
     ]
    }
   ],
   "source": [
    "a = 3 # 3 is assigned to a\n",
    "print(a)\n",
    "\n",
    "a, b, c = 'A', 2.36, 4 # 4 is assigned to c, 2.36 is assigned to b and 'A' is assigned to a\n",
    "print(a, b, c)\n",
    "\n",
    "a = b = 4 # a and b are assigned similar value which is 4\n",
    "print(a, b)\n"
   ]
  },
  {
   "cell_type": "markdown",
   "metadata": {},
   "source": [
    "## __Data Types__\n",
    "\n",
    "Types of the value which can be used in python\n",
    "\n",
    "* __Integer (int)__ :- Numbers without decimal point (eg. 1,2,-1,0,-3)\n",
    "* __Floating (float)__ :- Real number with decimal point (eg. 2.34,-12.3)\n",
    "* __Complex (complex)__ :- Complex number of form a + bj where a represents real part and b represents imaginary part\n",
    "* __Boolean (bool)__ :- True or False\n",
    "* __Strings (str)__ :- Sequence of unicode characters\n",
    "\n",
    "__Note :__ \n",
    "\n",
    "\n",
    "1.) Data type of any variable can be displayed using __type(variable name)__\n",
    "\n",
    "2.) Data type of any variable can be asserted using __isinstance(variable name, dtype)__ , it returns if the data type of variable name matches with the dtype passed else returns false"
   ]
  },
  {
   "cell_type": "code",
   "execution_count": 9,
   "metadata": {},
   "outputs": [
    {
     "name": "stdout",
     "output_type": "stream",
     "text": [
      "<class 'int'>\n"
     ]
    }
   ],
   "source": [
    "a = 3\n",
    "print(type(a))"
   ]
  },
  {
   "cell_type": "code",
   "execution_count": 10,
   "metadata": {},
   "outputs": [
    {
     "name": "stdout",
     "output_type": "stream",
     "text": [
      "<class 'float'>\n"
     ]
    }
   ],
   "source": [
    "a = 2.36\n",
    "print(type(a))"
   ]
  },
  {
   "cell_type": "code",
   "execution_count": 11,
   "metadata": {},
   "outputs": [
    {
     "name": "stdout",
     "output_type": "stream",
     "text": [
      "<class 'complex'>\n"
     ]
    }
   ],
   "source": [
    "a = 2 + 3j\n",
    "print(type(a))"
   ]
  },
  {
   "cell_type": "code",
   "execution_count": 12,
   "metadata": {},
   "outputs": [
    {
     "name": "stdout",
     "output_type": "stream",
     "text": [
      "<class 'bool'>\n"
     ]
    }
   ],
   "source": [
    "a = True\n",
    "print(type(a))"
   ]
  },
  {
   "cell_type": "code",
   "execution_count": 13,
   "metadata": {},
   "outputs": [
    {
     "name": "stdout",
     "output_type": "stream",
     "text": [
      "<class 'str'>\n"
     ]
    }
   ],
   "source": [
    "a = 'asg' # both single and double quotes can be used\n",
    "print(type(a))"
   ]
  },
  {
   "cell_type": "code",
   "execution_count": 14,
   "metadata": {},
   "outputs": [
    {
     "data": {
      "text/plain": [
       "True"
      ]
     },
     "execution_count": 14,
     "metadata": {},
     "output_type": "execute_result"
    }
   ],
   "source": [
    "isinstance(a, str)"
   ]
  },
  {
   "cell_type": "code",
   "execution_count": 15,
   "metadata": {},
   "outputs": [
    {
     "data": {
      "text/plain": [
       "False"
      ]
     },
     "execution_count": 15,
     "metadata": {},
     "output_type": "execute_result"
    }
   ],
   "source": [
    "isinstance(a, int)"
   ]
  },
  {
   "cell_type": "markdown",
   "metadata": {},
   "source": [
    "## __Type Conversion__\n",
    "\n",
    "You can convert a type of an object to another type which is called as type conversion\n",
    "\n",
    "__Syntax:__ __type(variable)__\n",
    "\n",
    "where type is the data type you want to convert to and variable is the data type you want to convert"
   ]
  },
  {
   "cell_type": "code",
   "execution_count": 1,
   "metadata": {},
   "outputs": [
    {
     "name": "stdout",
     "output_type": "stream",
     "text": [
      "<class 'int'>\n",
      "3\n",
      "<class 'float'>\n",
      "3.0\n"
     ]
    }
   ],
   "source": [
    "a = 3\n",
    "print(type(a))\n",
    "print(a)\n",
    "\n",
    "a = float(a)\n",
    "print(type(a))\n",
    "print(a)"
   ]
  },
  {
   "cell_type": "markdown",
   "metadata": {},
   "source": [
    "## __Input/Output__"
   ]
  },
  {
   "cell_type": "code",
   "execution_count": 2,
   "metadata": {},
   "outputs": [
    {
     "name": "stdout",
     "output_type": "stream",
     "text": [
      "Please give input: 12\n",
      "12\n",
      "<class 'str'>\n"
     ]
    }
   ],
   "source": [
    "# Takes input from the user\n",
    "\n",
    "a = input(\"Please give input: \")\n",
    "print(a)\n",
    "print(type(a))\n"
   ]
  },
  {
   "cell_type": "markdown",
   "metadata": {},
   "source": [
    "__Note:__ By default the data type of input is string, we use type casting to convert into suitable type"
   ]
  },
  {
   "cell_type": "code",
   "execution_count": 3,
   "metadata": {},
   "outputs": [
    {
     "name": "stdout",
     "output_type": "stream",
     "text": [
      "Enter the number: 12\n",
      "12\n",
      "<class 'int'>\n"
     ]
    }
   ],
   "source": [
    "# Type casting input\n",
    "\n",
    "a = int(input(\"Enter the number: \"))\n",
    "print(a)\n",
    "print(type(a))"
   ]
  },
  {
   "cell_type": "markdown",
   "metadata": {},
   "source": [
    "We can format our output string using __format()__ function"
   ]
  },
  {
   "cell_type": "code",
   "execution_count": 6,
   "metadata": {},
   "outputs": [
    {
     "name": "stdout",
     "output_type": "stream",
     "text": [
      "Value of a: 3 and value of b: hello\n",
      "Value of b: hello and value of a: 3\n",
      "Value of a: android and value of b: world\n"
     ]
    }
   ],
   "source": [
    "a = 3\n",
    "b = 'hello'\n",
    "\n",
    "# fills {} in the order they are passed\n",
    "print(\"Value of a: {} and value of b: {}\".format(a,b))\n",
    "\n",
    "# fills {} based on the index where leftmost variable passed has an index of 0\n",
    "print(\"Value of b: {1} and value of a: {0}\".format(a,b))\n",
    "\n",
    "# Pass variable name inside {} to replace the curly brackets with that variable value\n",
    "print(\"Value of a: {a} and value of b: {b}\".format(a='android',b='world'))"
   ]
  },
  {
   "cell_type": "markdown",
   "metadata": {},
   "source": [
    "## __Operators__\n",
    "\n",
    "Operators are the special symbols which are used to perform some computations. The values on which the computations are performed are called as operands.\n",
    "\n",
    "__There are different type of operators:-__\n",
    "\n",
    "* __Arithmetic operators__\n",
    "* __Relational operators__\n",
    "* __Logical operators__\n",
    "* __Assignment operators__\n",
    "* __Identity operators__\n",
    "* __Membership operators__"
   ]
  },
  {
   "cell_type": "markdown",
   "metadata": {},
   "source": [
    "### __Arithmetic operators__\n",
    "\n",
    "Performs mathematical arithmetic operations on the operands\n",
    "\n",
    "__There are different arithmetic operators:__\n",
    "\n",
    "* __+ :__ Adds two operands (concat in case of two strings, doesn't work with one string and another different type of operator)\n",
    "* __- :__ Subtracts two operand\n",
    "* __* :__ Multiplies two operands (Repeat a string n times where n is an integer. Doesn't work in case of string*string or string*float)\n",
    "* __/ :__ Float division. Divides one operand with another and return float value of quotient\n",
    "* __// :__ Integer Division. Divides one operand with another and returns floor integer value of quotient\n",
    "* __% :__ Returns remainder of a division\n",
    "* __** :__ Exponentiate "
   ]
  },
  {
   "cell_type": "code",
   "execution_count": 28,
   "metadata": {},
   "outputs": [
    {
     "name": "stdout",
     "output_type": "stream",
     "text": [
      "25\n",
      "21\n",
      "46\n",
      "11.5\n",
      "11\n",
      "1\n",
      "529\n"
     ]
    }
   ],
   "source": [
    "a = 23\n",
    "b = 2\n",
    "\n",
    "print(a + b)\n",
    "print(a - b)\n",
    "print(a * b)\n",
    "print(a / b)\n",
    "print(a // b)\n",
    "print(a % b)\n",
    "print(a ** b)"
   ]
  },
  {
   "cell_type": "markdown",
   "metadata": {},
   "source": [
    "## __Relational Operators__\n",
    "\n",
    "Check relation between operands and return either true or fals\n",
    "\n",
    "__Different Relational Operators:__\n",
    "\n",
    "* __< :__ checks if one operand is less than another\n",
    "* __<= :__ checks if one operand is less than or equal to another\n",
    "* __> :__ checks if one operand is greater than another\n",
    "* __>= :__ checks if one operand is greater than or equal to another\n",
    "* __== :__ checks if two operands are equal\n",
    "* __!= :__ checks if two operands are not equal to each other"
   ]
  },
  {
   "cell_type": "code",
   "execution_count": 29,
   "metadata": {},
   "outputs": [
    {
     "name": "stdout",
     "output_type": "stream",
     "text": [
      "True\n",
      "True\n",
      "False\n",
      "True\n",
      "True\n",
      "False\n",
      "False\n",
      "True\n"
     ]
    }
   ],
   "source": [
    "a = 23\n",
    "b = 2\n",
    "c = 2\n",
    "\n",
    "\n",
    "print(b < a)\n",
    "print(b <= c)\n",
    "print(b > a)\n",
    "print(b >= c)\n",
    "print(b == c)\n",
    "print(a == b)\n",
    "print(b != c)\n",
    "print(a != b)\n"
   ]
  },
  {
   "cell_type": "markdown",
   "metadata": {},
   "source": [
    "## __Logical Operators__\n",
    "\n",
    "Performs logical operations between the operands and return true or false\n",
    "\n",
    "__Different Logical Operators:__\n",
    "\n",
    "* __and :__ returns true if both the operand is true (or not 0)\n",
    "* __or :__ returns true if either of the operand is true (or not 0)\n",
    "* __not :__ returns true if the operator is false (or 0)"
   ]
  },
  {
   "cell_type": "code",
   "execution_count": 30,
   "metadata": {},
   "outputs": [
    {
     "name": "stdout",
     "output_type": "stream",
     "text": [
      "False\n",
      "True\n",
      "True\n",
      "False\n",
      "False\n",
      "True\n"
     ]
    }
   ],
   "source": [
    "a = 1 # True\n",
    "b = 0 # False\n",
    "c = 1 # True\n",
    "d = 0 # False\n",
    "\n",
    "print(bool(a and b))\n",
    "print(bool(a and c))\n",
    "print(bool(a or b))\n",
    "print(bool(b or d))\n",
    "print(bool(not a))\n",
    "print(bool(not b))"
   ]
  },
  {
   "cell_type": "markdown",
   "metadata": {},
   "source": [
    "## __Bitwise Operators__\n",
    "\n",
    "Performs bits operations on individual bits\n",
    "\n",
    "__Different Bitwise Operators:__\n",
    "\n",
    "* __& :__ returns value after performing and operation on each bit of two operands\n",
    "* __| :__ returns value after performing or operation on each bit of two operands\n",
    "* __~ :__ returns value after performing not operation on each bit\n",
    "* __^ :__ returns value after performing xor operation on each bit of two operands\n",
    "* __>> :__ returns value after shifting bits to the right and padding with 0 at right\n",
    "* __<< :__ returns value after shifting bits to the left and padding with 0 at left\n"
   ]
  },
  {
   "cell_type": "code",
   "execution_count": 35,
   "metadata": {},
   "outputs": [
    {
     "name": "stdout",
     "output_type": "stream",
     "text": [
      "0b101\n",
      "0b110\n",
      "4 0b100\n",
      "7 0b111\n",
      "-6 -0b110\n",
      "3 0b11\n",
      "2 0b10\n",
      "10 0b1010\n"
     ]
    }
   ],
   "source": [
    "a = 5\n",
    "b = 6\n",
    "print(bin(a)) # First two charaters are 0b which denotes that the number is binary\n",
    "print(bin(b))\n",
    "\n",
    "print(a & b, bin(a & b))\n",
    "print(a | b, bin(a | b))\n",
    "print(~ a, bin(~ a))\n",
    "print(a ^ b, bin(a ^ b))\n",
    "print(a >> 1,bin(a >> 1)) # 1 represents the number of bits that has to be shifted\n",
    "print(a << 1, bin(a << 1))"
   ]
  },
  {
   "cell_type": "markdown",
   "metadata": {},
   "source": [
    "## __Assignment Operators__\n",
    "\n",
    "Assigns the right hand operandto the left hand operand\n",
    "\n",
    "__Different Assignment Operators:__\n",
    "\n",
    "* __= :__ Assigns right hand operand to the left hand operand"
   ]
  },
  {
   "cell_type": "code",
   "execution_count": 36,
   "metadata": {},
   "outputs": [
    {
     "name": "stdout",
     "output_type": "stream",
     "text": [
      "2 3\n",
      "3 2\n"
     ]
    }
   ],
   "source": [
    "a = 2\n",
    "b = 3\n",
    "print(a, b)\n",
    "a, b = b, a #swaps\n",
    "print(a, b)"
   ]
  },
  {
   "cell_type": "markdown",
   "metadata": {},
   "source": [
    "## __Identity Operators__\n",
    "\n",
    "Compares the memory address of two operands and returns whether they are same or no\n",
    "\n",
    "__Different Identity Operators:__\n",
    "\n",
    "* __is :__ returns true if both the operand has same memory address\n",
    "* __is not :__ returns true if both the operand has different memory address\n",
    "\n",
    "__Note:__\n",
    "\n",
    "* Memory address of a variable can be found using __id(variable)__\n",
    "* integers,float,boolean and strings share the memory address i.e. same value has same memory address"
   ]
  },
  {
   "cell_type": "code",
   "execution_count": 37,
   "metadata": {},
   "outputs": [
    {
     "name": "stdout",
     "output_type": "stream",
     "text": [
      "True\n",
      "False\n",
      "False\n",
      "True\n",
      "140708042482768\n",
      "140708042482768\n",
      "140708042482128\n"
     ]
    }
   ],
   "source": [
    "a = 23\n",
    "b = 23\n",
    "c = 3\n",
    "\n",
    "print(a is b)\n",
    "print(a is not b)\n",
    "print(a is c)\n",
    "print(a is not c)\n",
    "\n",
    "print(id(a))\n",
    "print(id(b))\n",
    "print(id(c))"
   ]
  },
  {
   "cell_type": "markdown",
   "metadata": {},
   "source": [
    "## __Membership Operators__\n",
    "\n",
    "Checks if something is present in a sequence or not\n",
    "\n",
    "__Different Relational Operators:__\n",
    "\n",
    "* __in :__ returns true if a value is present in a sequence\n",
    "* __in not :__ returns true if a value is not present in a sequence"
   ]
  },
  {
   "cell_type": "code",
   "execution_count": 38,
   "metadata": {},
   "outputs": [
    {
     "name": "stdout",
     "output_type": "stream",
     "text": [
      "True\n",
      "False\n",
      "False\n",
      "True\n"
     ]
    }
   ],
   "source": [
    "a = 'ell'\n",
    "b = 'zoo'\n",
    "c = 'hello'\n",
    "\n",
    "print(a in c)\n",
    "print(a not in c)\n",
    "print(b in c)\n",
    "print(b not in c)"
   ]
  },
  {
   "cell_type": "code",
   "execution_count": null,
   "metadata": {},
   "outputs": [],
   "source": []
  }
 ],
 "metadata": {
  "kernelspec": {
   "display_name": "Python 3",
   "language": "python",
   "name": "python3"
  },
  "language_info": {
   "codemirror_mode": {
    "name": "ipython",
    "version": 3
   },
   "file_extension": ".py",
   "mimetype": "text/x-python",
   "name": "python",
   "nbconvert_exporter": "python",
   "pygments_lexer": "ipython3",
   "version": "3.7.6"
  }
 },
 "nbformat": 4,
 "nbformat_minor": 4
}
