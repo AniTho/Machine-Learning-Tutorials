{
 "cells": [
  {
   "cell_type": "markdown",
   "metadata": {},
   "source": [
    "# __Conditional__\n"
   ]
  },
  {
   "cell_type": "markdown",
   "metadata": {},
   "source": [
    "## __If - Else__\n",
    "\n",
    "Used for decision making\n",
    "\n",
    "__Syntax:__\n",
    "\n",
    "```\n",
    "if condition:\n",
    "    statement\n",
    "elif another condition:\n",
    "    statement\n",
    "else:\n",
    "    statement\n",
    "```\n",
    "\n",
    "__Note:__\n",
    "\n",
    "Just like for any programming language curly braces are used to encapsulate a block of code, in python we use indentations. Statements with same level of indentations are in same block. [ Generally we use 4 spaces or a tab for indentation ]"
   ]
  },
  {
   "cell_type": "code",
   "execution_count": 1,
   "metadata": {},
   "outputs": [
    {
     "name": "stdout",
     "output_type": "stream",
     "text": [
      "Number is equal to 10\n"
     ]
    }
   ],
   "source": [
    "num = 10\n",
    "\n",
    "if num > 10:\n",
    "    print(\"Number is greater than 10\")\n",
    "    \n",
    "elif num < 10:\n",
    "    print(\"Number is less than 10\")\n",
    "    \n",
    "else:\n",
    "    print(\"Number is equal to 10\")"
   ]
  },
  {
   "cell_type": "markdown",
   "metadata": {},
   "source": [
    "# Looping\n",
    "\n",
    "When there's a need to repeat some block of code iteratively till some condition is evaluated to be false, looping is used.\n",
    "\n",
    "__There are 2 type of loops in python:__\n",
    "\n",
    "* __While Loop :-__ When we don't know the exact number of iterations to be performed\n",
    "* __For Loop :-__ When we know the exact number of iterations to be performed or iterate through something\n",
    "\n",
    "__Note :__ One should make sure that the looping condition become false at some point otherwise an infinite loop is created and your program may run indefinitely"
   ]
  },
  {
   "cell_type": "markdown",
   "metadata": {},
   "source": [
    "## __While Loop__\n",
    "\n",
    "When we don't know the exact number of iterations to be performed\n",
    "\n",
    "__Syntax:__\n",
    "\n",
    "```\n",
    "while test_condition:\n",
    "    body of the loop\n",
    "    \n",
    "```\n",
    "\n",
    "__Note:__\n",
    "\n",
    "We can also use else statement with while which will be evaluated as soon as while condition is evaluated to be false\n",
    "\n",
    "__Syntax:__\n",
    "\n",
    "```\n",
    "while test_condition:\n",
    "    Body of the loop\n",
    "    \n",
    "else:\n",
    "    statement\n",
    "```"
   ]
  },
  {
   "cell_type": "code",
   "execution_count": 2,
   "metadata": {},
   "outputs": [],
   "source": [
    "#num = 0\n",
    "\n",
    "#Infinite loop as num is constant\n",
    "#while num < 5:\n",
    "#    print(num)\n",
    "#print(\"Looping is done\")"
   ]
  },
  {
   "cell_type": "code",
   "execution_count": 3,
   "metadata": {},
   "outputs": [
    {
     "name": "stdout",
     "output_type": "stream",
     "text": [
      "0\n",
      "1\n",
      "2\n",
      "3\n",
      "4\n",
      "Looping is done\n"
     ]
    }
   ],
   "source": [
    "num = 0\n",
    "\n",
    "while num < 5:\n",
    "    print(num)\n",
    "    num += 1 # increment\n",
    "print(\"Looping is done\")"
   ]
  },
  {
   "cell_type": "code",
   "execution_count": 4,
   "metadata": {},
   "outputs": [
    {
     "name": "stdout",
     "output_type": "stream",
     "text": [
      "0\n",
      "1\n",
      "2\n",
      "3\n",
      "4\n",
      "In else block\n",
      "Looping is done\n"
     ]
    }
   ],
   "source": [
    "num = 0\n",
    "while num < 5:\n",
    "    print(num)\n",
    "    num += 1\n",
    "else:\n",
    "    print(\"In else block\")\n",
    "print(\"Looping is done\")"
   ]
  },
  {
   "cell_type": "markdown",
   "metadata": {},
   "source": [
    "## __For Loop__\n",
    "\n",
    "When we know the exact number of iterations to be performed.\n",
    "\n",
    "It is also used to iterate over a sequence.\n",
    "\n",
    "__Syntax:__\n",
    "\n",
    "```\n",
    "for var in sequence:\n",
    "    body of the loop\n",
    "    \n",
    "```\n",
    "\n",
    "__Note:__\n",
    "\n",
    "We can also use else statement with for loop which will be evaluated as soon as for condition is evaluated to be false\n",
    "\n",
    "__Syntax:__\n",
    "\n",
    "```\n",
    "for var in sequence:\n",
    "    Body of the loop\n",
    "    \n",
    "else:\n",
    "    statement\n",
    "```"
   ]
  },
  {
   "cell_type": "code",
   "execution_count": 5,
   "metadata": {},
   "outputs": [
    {
     "name": "stdout",
     "output_type": "stream",
     "text": [
      "h\n",
      "e\n",
      "l\n",
      "l\n",
      "o\n",
      "Done looping\n",
      "continue program\n"
     ]
    }
   ],
   "source": [
    "s = 'hello'\n",
    "\n",
    "for i in s:\n",
    "    print(i)\n",
    "    \n",
    "else:\n",
    "    print(\"Done looping\")\n",
    "\n",
    "print(\"continue program\")"
   ]
  },
  {
   "cell_type": "markdown",
   "metadata": {},
   "source": [
    "__Note:__\n",
    "\n",
    "We can use __range()__ function to create a sequence of number to iterate over it, in case a definite number of iteration is required.\n",
    "\n",
    "__Syntax:__\n",
    "\n",
    "```\n",
    "range(start,stop,step)\n",
    "```\n",
    "\n",
    "* __Start:__ Starting number from where you want to start the loop [inclusive]\n",
    "* __Stop:__ Ending number till where you want to run the loop [exclusive]\n",
    "* __Step:__ How many steps or numbers to be jumped from start at every iteration\n",
    "\n",
    "__NOTE:__ __Start__ and __Step__ parameters are optional and if they are absent their default value is 0 and 1 respectively"
   ]
  },
  {
   "cell_type": "code",
   "execution_count": 6,
   "metadata": {},
   "outputs": [
    {
     "name": "stdout",
     "output_type": "stream",
     "text": [
      "1\n",
      "2\n",
      "3\n",
      "4\n"
     ]
    }
   ],
   "source": [
    "for i in range(1,5,1):\n",
    "    print(i)"
   ]
  },
  {
   "cell_type": "code",
   "execution_count": 7,
   "metadata": {},
   "outputs": [
    {
     "name": "stdout",
     "output_type": "stream",
     "text": [
      "0\n",
      "1\n",
      "2\n"
     ]
    }
   ],
   "source": [
    "for i in range(3):\n",
    "    print(i)"
   ]
  },
  {
   "cell_type": "code",
   "execution_count": 8,
   "metadata": {},
   "outputs": [
    {
     "name": "stdout",
     "output_type": "stream",
     "text": [
      "1\n",
      "3\n"
     ]
    }
   ],
   "source": [
    "for i in range(1,5,2):\n",
    "    print(i)  # 5 will be excluded"
   ]
  },
  {
   "cell_type": "code",
   "execution_count": null,
   "metadata": {},
   "outputs": [],
   "source": []
  }
 ],
 "metadata": {
  "kernelspec": {
   "display_name": "Python 3",
   "language": "python",
   "name": "python3"
  },
  "language_info": {
   "codemirror_mode": {
    "name": "ipython",
    "version": 3
   },
   "file_extension": ".py",
   "mimetype": "text/x-python",
   "name": "python",
   "nbconvert_exporter": "python",
   "pygments_lexer": "ipython3",
   "version": "3.7.6"
  }
 },
 "nbformat": 4,
 "nbformat_minor": 4
}
