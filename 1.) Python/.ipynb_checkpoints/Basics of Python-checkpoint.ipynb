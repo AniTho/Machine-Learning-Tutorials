{
 "cells": [
  {
   "cell_type": "markdown",
   "metadata": {},
   "source": [
    "# Python Basics\n"
   ]
  },
  {
   "cell_type": "markdown",
   "metadata": {},
   "source": [
    "##  __Keywords__\n",
    "\n",
    "Keywords are the reserved words in any languages which can't be used as a literal or identifier and is case sensitive."
   ]
  },
  {
   "cell_type": "code",
   "execution_count": 1,
   "metadata": {},
   "outputs": [
    {
     "name": "stdout",
     "output_type": "stream",
     "text": [
      "['False', 'None', 'True', 'and', 'as', 'assert', 'async', 'await', 'break', 'class', 'continue', 'def', 'del', 'elif', 'else', 'except', 'finally', 'for', 'from', 'global', 'if', 'import', 'in', 'is', 'lambda', 'nonlocal', 'not', 'or', 'pass', 'raise', 'return', 'try', 'while', 'with', 'yield']\n"
     ]
    }
   ],
   "source": [
    "# import keyword library\n",
    "import keyword\n",
    "\n",
    "# print the list of keywords\n",
    "print(keyword.kwlist)"
   ]
  },
  {
   "cell_type": "markdown",
   "metadata": {},
   "source": [
    "__Note :__\n",
    "\n",
    "\n",
    "* We can use the code of other people in our own work by importing it in our project by using : __import < module name >__\n",
    "\n",
    "* To use any function or any variable in that library or module by using __< module name >.< function name >()__ or __< module name >.< variable name >__ \n"
   ]
  },
  {
   "cell_type": "markdown",
   "metadata": {},
   "source": [
    "## __Identifiers__\n",
    "\n",
    "Identifiers are the name given to any variable, function or class.\n",
    "\n",
    "__Following are the properties of an Identifier:__\n",
    "\n",
    "* It should not start with a number\n",
    "* Should only contain alpha numeric character (a-z / A-Z / 0-9) and a special character ( _ ) underscore\n",
    "* Should not have any other special character except ( _ ) underscore\n",
    "* Is case sensitive\n",
    "* Keywords can't be used"
   ]
  },
  {
   "cell_type": "code",
   "execution_count": null,
   "metadata": {},
   "outputs": [],
   "source": [
    "variable1 = 123 #correct\n",
    "\n",
    "1variable = 123 #incorrect\n",
    "\n",
    "var_i1able = 123 #correct\n",
    "\n",
    "var$iable = 123 #incorrect\n",
    "\n",
    "return = 123 #incorrect "
   ]
  },
  {
   "cell_type": "markdown",
   "metadata": {},
   "source": [
    "## __Comments__\n",
    "\n",
    "Comments are added to our code to make it more readable and understandable and is often ignored by the compiler or interpreter\n",
    "\n",
    "__It can be:__\n",
    "\n",
    "* __Single Line Comments__ :- Starts with __# comment__ and generally spans through only a single line\n",
    "* __Multi Line Comments__ :- Starts and ends with triple quotes __''' comment '''__ or __\"\"\" comment \"\"\"__ and can span through multiple lines"
   ]
  },
  {
   "cell_type": "code",
   "execution_count": 6,
   "metadata": {},
   "outputs": [],
   "source": [
    "# Example of single line comment\n",
    "\n",
    "''' This is an example\n",
    "of multiline comments\n",
    "used in python '''\n",
    "\n",
    "\"\"\" This is also an example\n",
    "of Multiline comments\n",
    "used in python\n",
    "\"\"\";\n",
    "\n",
    "# Semicolon at the end denotes no output from an ipython notebook cell"
   ]
  },
  {
   "cell_type": "markdown",
   "metadata": {},
   "source": [
    "## __Variables__\n",
    "\n",
    "Name given to a value stored in some memory location.\n",
    "\n",
    "__It has some following properties :__\n",
    "\n",
    "* Case sensitive\n",
    "* Naming rule same as of identifiers\n",
    "* In python, you need not explicitly tell the data type of the value that is to be stored\n",
    "\n",
    "Assignment of value is done by __=__ operator which assigns the right hand side to left hand side"
   ]
  },
  {
   "cell_type": "code",
   "execution_count": 7,
   "metadata": {},
   "outputs": [
    {
     "ename": "SyntaxError",
     "evalue": "invalid syntax (<ipython-input-7-78041125b719>, line 1)",
     "output_type": "error",
     "traceback": [
      "\u001b[1;36m  File \u001b[1;32m\"<ipython-input-7-78041125b719>\"\u001b[1;36m, line \u001b[1;32m1\u001b[0m\n\u001b[1;33m    int a = 3 # Data type Not needed in python\u001b[0m\n\u001b[1;37m        ^\u001b[0m\n\u001b[1;31mSyntaxError\u001b[0m\u001b[1;31m:\u001b[0m invalid syntax\n"
     ]
    }
   ],
   "source": [
    "int a = 3 # Data type Not needed in python"
   ]
  },
  {
   "cell_type": "code",
   "execution_count": 8,
   "metadata": {},
   "outputs": [
    {
     "name": "stdout",
     "output_type": "stream",
     "text": [
      "3\n",
      "A 2.36 4\n",
      "4 4\n"
     ]
    }
   ],
   "source": [
    "a = 3 # 3 is assigned to a\n",
    "print(a)\n",
    "\n",
    "a, b, c = 'A', 2.36, 4 # 4 is assigned to c, 2.36 is assigned to b and 'A' is assigned to a\n",
    "print(a, b, c)\n",
    "\n",
    "a = b = 4 # a and b are assigned similar value which is 4\n",
    "print(a, b)\n"
   ]
  },
  {
   "cell_type": "markdown",
   "metadata": {},
   "source": [
    "## __Data Types__\n",
    "\n",
    "Types of the value which can be used in python\n",
    "\n",
    "* __Integer (int)__ :- Numbers without decimal point (eg. 1,2,-1,0,-3)\n",
    "* __Floating (float)__ :- Real number with decimal point (eg. 2.34,-12.3)\n",
    "* __Complex (complex)__ :- Complex number of form a + bj where a represents real part and b represents imaginary part\n",
    "* __Boolean (bool)__ :- True or False\n",
    "* __Strings (str)__ :- Sequence of unicode characters\n",
    "\n",
    "__Note :__ \n",
    "\n",
    "\n",
    "1.) Data type of any variable can be displayed using __type(variable name)__\n",
    "\n",
    "2.) Data type of any variable can be asserted using __isinstance(variable name, dtype)__ , it returns if the data type of variable name matches with the dtype passed else returns false"
   ]
  },
  {
   "cell_type": "code",
   "execution_count": 9,
   "metadata": {},
   "outputs": [
    {
     "name": "stdout",
     "output_type": "stream",
     "text": [
      "<class 'int'>\n"
     ]
    }
   ],
   "source": [
    "a = 3\n",
    "print(type(a))"
   ]
  },
  {
   "cell_type": "code",
   "execution_count": 10,
   "metadata": {},
   "outputs": [
    {
     "name": "stdout",
     "output_type": "stream",
     "text": [
      "<class 'float'>\n"
     ]
    }
   ],
   "source": [
    "a = 2.36\n",
    "print(type(a))"
   ]
  },
  {
   "cell_type": "code",
   "execution_count": 11,
   "metadata": {},
   "outputs": [
    {
     "name": "stdout",
     "output_type": "stream",
     "text": [
      "<class 'complex'>\n"
     ]
    }
   ],
   "source": [
    "a = 2 + 3j\n",
    "print(type(a))"
   ]
  },
  {
   "cell_type": "code",
   "execution_count": 12,
   "metadata": {},
   "outputs": [
    {
     "name": "stdout",
     "output_type": "stream",
     "text": [
      "<class 'bool'>\n"
     ]
    }
   ],
   "source": [
    "a = True\n",
    "print(type(a))"
   ]
  },
  {
   "cell_type": "code",
   "execution_count": 13,
   "metadata": {},
   "outputs": [
    {
     "name": "stdout",
     "output_type": "stream",
     "text": [
      "<class 'str'>\n"
     ]
    }
   ],
   "source": [
    "a = 'asg' # both single and double quotes can be used\n",
    "print(type(a))"
   ]
  },
  {
   "cell_type": "code",
   "execution_count": 14,
   "metadata": {},
   "outputs": [
    {
     "data": {
      "text/plain": [
       "True"
      ]
     },
     "execution_count": 14,
     "metadata": {},
     "output_type": "execute_result"
    }
   ],
   "source": [
    "isinstance(a, str)"
   ]
  },
  {
   "cell_type": "code",
   "execution_count": 15,
   "metadata": {},
   "outputs": [
    {
     "data": {
      "text/plain": [
       "False"
      ]
     },
     "execution_count": 15,
     "metadata": {},
     "output_type": "execute_result"
    }
   ],
   "source": [
    "isinstance(a, int)"
   ]
  },
  {
   "cell_type": "code",
   "execution_count": null,
   "metadata": {},
   "outputs": [],
   "source": []
  }
 ],
 "metadata": {
  "kernelspec": {
   "display_name": "Python 3",
   "language": "python",
   "name": "python3"
  },
  "language_info": {
   "codemirror_mode": {
    "name": "ipython",
    "version": 3
   },
   "file_extension": ".py",
   "mimetype": "text/x-python",
   "name": "python",
   "nbconvert_exporter": "python",
   "pygments_lexer": "ipython3",
   "version": "3.7.6"
  }
 },
 "nbformat": 4,
 "nbformat_minor": 4
}
